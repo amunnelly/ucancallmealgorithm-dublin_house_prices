{
 "cells": [
  {
   "cell_type": "markdown",
   "metadata": {},
   "source": [
    "# DUBLIN HOUSE PRICES - JUST HOW IMPORTANT IS LOCATION?\n",
    "# Part 1: Preparing the data\n",
    "Certain details on the sale of property in Ireland going back to 2010 are available for download here, on the Property Price Register website: https://www.propertypriceregister.ie/website/npsra/pprweb.nsf/page/ppr-home-en\n",
    "\n",
    "The website makes it clear that the Register is not a “Property Price Index,” as such; rather it is a record of submissions made to the Revenue Commissions for stamp duty purposes as part of the house conveyance process. Like that well-remembered man, Oliver Cromwell, the data is presented as it was filed, warts and all.\n",
    "\n",
    "Unfortunately, this laissez faire attitude towards accuracy means that the data set has to undergo no small amount of cleaning before the data can be explored for anything useful. This is what the data for 2015 look like on initial exploration:"
   ]
  },
  {
   "cell_type": "code",
   "execution_count": 3,
   "metadata": {
    "collapsed": false
   },
   "outputs": [
    {
     "data": {
      "text/html": [
       "<div>\n",
       "<table border=\"1\" class=\"dataframe\">\n",
       "  <thead>\n",
       "    <tr style=\"text-align: right;\">\n",
       "      <th></th>\n",
       "      <th>Date of Sale (dd/mm/yyyy)</th>\n",
       "      <th>Address</th>\n",
       "      <th>Postal Code</th>\n",
       "      <th>County</th>\n",
       "      <th>Price ()</th>\n",
       "      <th>Not Full Market Price</th>\n",
       "      <th>VAT Exclusive</th>\n",
       "      <th>Description of Property</th>\n",
       "      <th>Property Size Description</th>\n",
       "    </tr>\n",
       "  </thead>\n",
       "  <tbody>\n",
       "    <tr>\n",
       "      <th>0</th>\n",
       "      <td>02/01/2015</td>\n",
       "      <td>108 THE HARDWICKE VILLAGE, NORTH BRUNSWICK ST,...</td>\n",
       "      <td>Dublin 7</td>\n",
       "      <td>Dublin</td>\n",
       "      <td>138,000.00</td>\n",
       "      <td>No</td>\n",
       "      <td>No</td>\n",
       "      <td>Second-Hand Dwelling house /Apartment</td>\n",
       "      <td>NaN</td>\n",
       "    </tr>\n",
       "    <tr>\n",
       "      <th>1</th>\n",
       "      <td>02/01/2015</td>\n",
       "      <td>12 THE CEDARS, MONKSTOWN VALLEY, MONKSTOWN</td>\n",
       "      <td>NaN</td>\n",
       "      <td>Dublin</td>\n",
       "      <td>270,000.00</td>\n",
       "      <td>No</td>\n",
       "      <td>No</td>\n",
       "      <td>Second-Hand Dwelling house /Apartment</td>\n",
       "      <td>NaN</td>\n",
       "    </tr>\n",
       "    <tr>\n",
       "      <th>2</th>\n",
       "      <td>02/01/2015</td>\n",
       "      <td>4 SHREWSBURY, BALLSBRIDGE, DUBLIN 4</td>\n",
       "      <td>Dublin 4</td>\n",
       "      <td>Dublin</td>\n",
       "      <td>900,000.00</td>\n",
       "      <td>No</td>\n",
       "      <td>No</td>\n",
       "      <td>Second-Hand Dwelling house /Apartment</td>\n",
       "      <td>NaN</td>\n",
       "    </tr>\n",
       "    <tr>\n",
       "      <th>3</th>\n",
       "      <td>03/01/2015</td>\n",
       "      <td>46 HOLYWELL, UPR KILMACUD RD, DUBLIN 14</td>\n",
       "      <td>Dublin 14</td>\n",
       "      <td>Dublin</td>\n",
       "      <td>592,000.00</td>\n",
       "      <td>No</td>\n",
       "      <td>No</td>\n",
       "      <td>Second-Hand Dwelling house /Apartment</td>\n",
       "      <td>NaN</td>\n",
       "    </tr>\n",
       "    <tr>\n",
       "      <th>4</th>\n",
       "      <td>04/01/2015</td>\n",
       "      <td>73 FORBES QUAY, DUBLIN</td>\n",
       "      <td>Dublin 2</td>\n",
       "      <td>Dublin</td>\n",
       "      <td>422,500.00</td>\n",
       "      <td>No</td>\n",
       "      <td>No</td>\n",
       "      <td>Second-Hand Dwelling house /Apartment</td>\n",
       "      <td>NaN</td>\n",
       "    </tr>\n",
       "  </tbody>\n",
       "</table>\n",
       "</div>"
      ],
      "text/plain": [
       "  Date of Sale (dd/mm/yyyy)  \\\n",
       "0                02/01/2015   \n",
       "1                02/01/2015   \n",
       "2                02/01/2015   \n",
       "3                03/01/2015   \n",
       "4                04/01/2015   \n",
       "\n",
       "                                             Address Postal Code  County  \\\n",
       "0  108 THE HARDWICKE VILLAGE, NORTH BRUNSWICK ST,...    Dublin 7  Dublin   \n",
       "1         12 THE CEDARS, MONKSTOWN VALLEY, MONKSTOWN         NaN  Dublin   \n",
       "2                4 SHREWSBURY, BALLSBRIDGE, DUBLIN 4    Dublin 4  Dublin   \n",
       "3            46 HOLYWELL, UPR KILMACUD RD, DUBLIN 14   Dublin 14  Dublin   \n",
       "4                             73 FORBES QUAY, DUBLIN    Dublin 2  Dublin   \n",
       "\n",
       "     Price () Not Full Market Price VAT Exclusive  \\\n",
       "0  138,000.00                    No            No   \n",
       "1  270,000.00                    No            No   \n",
       "2  900,000.00                    No            No   \n",
       "3  592,000.00                    No            No   \n",
       "4  422,500.00                    No            No   \n",
       "\n",
       "                 Description of Property Property Size Description  \n",
       "0  Second-Hand Dwelling house /Apartment                       NaN  \n",
       "1  Second-Hand Dwelling house /Apartment                       NaN  \n",
       "2  Second-Hand Dwelling house /Apartment                       NaN  \n",
       "3  Second-Hand Dwelling house /Apartment                       NaN  \n",
       "4  Second-Hand Dwelling house /Apartment                       NaN  "
      ]
     },
     "execution_count": 3,
     "metadata": {},
     "output_type": "execute_result"
    }
   ],
   "source": [
    "import pandas as pd\n",
    "houses = pd.read_csv('Dublin 2015/PPR-2015-Dublin.csv', encoding = 'latin-1')\n",
    "houses.head()"
   ]
  },
  {
   "cell_type": "code",
   "execution_count": 4,
   "metadata": {
    "collapsed": false
   },
   "outputs": [
    {
     "data": {
      "text/plain": [
       "Date of Sale (dd/mm/yyyy)    object\n",
       "Address                      object\n",
       "Postal Code                  object\n",
       "County                       object\n",
       "Price ()                    object\n",
       "Not Full Market Price        object\n",
       "VAT Exclusive                object\n",
       "Description of Property      object\n",
       "Property Size Description    object\n",
       "dtype: object"
      ]
     },
     "execution_count": 4,
     "metadata": {},
     "output_type": "execute_result"
    }
   ],
   "source": [
    "houses.dtypes"
   ]
  },
  {
   "cell_type": "code",
   "execution_count": 5,
   "metadata": {
    "collapsed": false
   },
   "outputs": [
    {
     "data": {
      "text/html": [
       "<div>\n",
       "<table border=\"1\" class=\"dataframe\">\n",
       "  <thead>\n",
       "    <tr style=\"text-align: right;\">\n",
       "      <th></th>\n",
       "      <th>Date of Sale (dd/mm/yyyy)</th>\n",
       "      <th>Address</th>\n",
       "      <th>Postal Code</th>\n",
       "      <th>County</th>\n",
       "      <th>Price ()</th>\n",
       "      <th>Not Full Market Price</th>\n",
       "      <th>VAT Exclusive</th>\n",
       "      <th>Description of Property</th>\n",
       "      <th>Property Size Description</th>\n",
       "    </tr>\n",
       "  </thead>\n",
       "  <tbody>\n",
       "    <tr>\n",
       "      <th>count</th>\n",
       "      <td>15380</td>\n",
       "      <td>15380</td>\n",
       "      <td>10513</td>\n",
       "      <td>15380</td>\n",
       "      <td>15380</td>\n",
       "      <td>15380</td>\n",
       "      <td>15380</td>\n",
       "      <td>15380</td>\n",
       "      <td>2158</td>\n",
       "    </tr>\n",
       "    <tr>\n",
       "      <th>unique</th>\n",
       "      <td>302</td>\n",
       "      <td>15283</td>\n",
       "      <td>22</td>\n",
       "      <td>1</td>\n",
       "      <td>2635</td>\n",
       "      <td>2</td>\n",
       "      <td>2</td>\n",
       "      <td>3</td>\n",
       "      <td>3</td>\n",
       "    </tr>\n",
       "    <tr>\n",
       "      <th>top</th>\n",
       "      <td>28/01/2015</td>\n",
       "      <td>7 MILLMOUNT COURT, DUNDRUM RD, WINDY ARBOUR DU...</td>\n",
       "      <td>Dublin 15</td>\n",
       "      <td>Dublin</td>\n",
       "      <td>250,000.00</td>\n",
       "      <td>No</td>\n",
       "      <td>No</td>\n",
       "      <td>Second-Hand Dwelling house /Apartment</td>\n",
       "      <td>greater than or equal to 38 sq metres and less...</td>\n",
       "    </tr>\n",
       "    <tr>\n",
       "      <th>freq</th>\n",
       "      <td>320</td>\n",
       "      <td>6</td>\n",
       "      <td>1320</td>\n",
       "      <td>15380</td>\n",
       "      <td>185</td>\n",
       "      <td>14750</td>\n",
       "      <td>13254</td>\n",
       "      <td>13221</td>\n",
       "      <td>1746</td>\n",
       "    </tr>\n",
       "  </tbody>\n",
       "</table>\n",
       "</div>"
      ],
      "text/plain": [
       "       Date of Sale (dd/mm/yyyy)  \\\n",
       "count                      15380   \n",
       "unique                       302   \n",
       "top                   28/01/2015   \n",
       "freq                         320   \n",
       "\n",
       "                                                  Address Postal Code  County  \\\n",
       "count                                               15380       10513   15380   \n",
       "unique                                              15283          22       1   \n",
       "top     7 MILLMOUNT COURT, DUNDRUM RD, WINDY ARBOUR DU...   Dublin 15  Dublin   \n",
       "freq                                                    6        1320   15380   \n",
       "\n",
       "          Price () Not Full Market Price VAT Exclusive  \\\n",
       "count         15380                 15380         15380   \n",
       "unique         2635                     2             2   \n",
       "top     250,000.00                    No            No   \n",
       "freq            185                 14750         13254   \n",
       "\n",
       "                      Description of Property  \\\n",
       "count                                   15380   \n",
       "unique                                      3   \n",
       "top     Second-Hand Dwelling house /Apartment   \n",
       "freq                                    13221   \n",
       "\n",
       "                                Property Size Description  \n",
       "count                                                2158  \n",
       "unique                                                  3  \n",
       "top     greater than or equal to 38 sq metres and less...  \n",
       "freq                                                 1746  "
      ]
     },
     "execution_count": 5,
     "metadata": {},
     "output_type": "execute_result"
    }
   ],
   "source": [
    "houses.describe()"
   ]
  },
  {
   "cell_type": "markdown",
   "metadata": {},
   "source": [
    "And here we see some immediate problems. \n",
    "\n",
    "1. The categorizations are not ideal for the home-buyer - there are only 2,158 extant descriptions of the property size from a dataset of 15,380.\n",
    "2. The address-filing is sloppy - some addresses are all caps, there are misspellings, and there is inconsistency with regard to what's included in an address.\n",
    "3. The use of existing post codes is patchy at best.\n",
    "\n",
    "Our aim is to prepare the data in such a way as it can be broken down by post code. Can this be done reliably with so much post code data missing?"
   ]
  },
  {
   "cell_type": "markdown",
   "metadata": {},
   "source": [
    "### The Google Maps API\n",
    "The answer, as is often the case, is provided by Google. The Google Maps API returns a .json object that lists addresses under various different categories – this is what you get for Dáil Éireann: "
   ]
  },
  {
   "cell_type": "code",
   "execution_count": 6,
   "metadata": {
    "collapsed": false
   },
   "outputs": [
    {
     "name": "stdout",
     "output_type": "stream",
     "text": [
      "{u'address_components': [{u'long_name': u'2',\n",
      "                          u'short_name': u'2',\n",
      "                          u'types': [u'street_number']},\n",
      "                         {u'long_name': u'Kildare Street',\n",
      "                          u'short_name': u'Kildare St',\n",
      "                          u'types': [u'route']},\n",
      "                         {u'long_name': u'Dublin',\n",
      "                          u'short_name': u'Dublin',\n",
      "                          u'types': [u'locality', u'political']},\n",
      "                         {u'long_name': u'Dublin City',\n",
      "                          u'short_name': u'Dublin City',\n",
      "                          u'types': [u'administrative_area_level_2',\n",
      "                                     u'political']},\n",
      "                         {u'long_name': u'County Dublin',\n",
      "                          u'short_name': u'County Dublin',\n",
      "                          u'types': [u'administrative_area_level_1',\n",
      "                                     u'political']},\n",
      "                         {u'long_name': u'Ireland',\n",
      "                          u'short_name': u'IE',\n",
      "                          u'types': [u'country', u'political']}],\n",
      " u'formatted_address': u'2 Kildare St, Dublin, Ireland',\n",
      " u'geometry': {u'bounds': {u'northeast': {u'lat': 53.3415255,\n",
      "                                          u'lng': -6.2548933},\n",
      "                           u'southwest': {u'lat': 53.3415219,\n",
      "                                          u'lng': -6.254911099999999}},\n",
      "               u'location': {u'lat': 53.3415219, u'lng': -6.2548933},\n",
      "               u'location_type': u'RANGE_INTERPOLATED',\n",
      "               u'viewport': {u'northeast': {u'lat': 53.3428726802915,\n",
      "                                            u'lng': -6.253553219708498},\n",
      "                             u'southwest': {u'lat': 53.3401747197085,\n",
      "                                            u'lng': -6.256251180291502}}},\n",
      " u'partial_match': True,\n",
      " u'place_id': u'Eh0yIEtpbGRhcmUgU3QsIER1YmxpbiwgSXJlbGFuZA',\n",
      " u'types': [u'street_address']}\n"
     ]
    }
   ],
   "source": [
    "from pprint import pprint\n",
    "import json\n",
    "\n",
    "with open('dailEireann.json', 'r') as f:\n",
    "    dail = json.load(f)\n",
    "    \n",
    "pprint(dail)"
   ]
  },
  {
   "cell_type": "markdown",
   "metadata": {},
   "source": [
    "### Using Google Maps to Add Detail\n",
    "So the plan is to use the Google API find four things:\n",
    "1. A uniformly-formatted address, where possible.\n",
    "2. A modern post code, where possible.\n",
    "3. An address's latitude, where possible.\n",
    "4. An address's longitude, where possible.\n",
    "\n",
    "I wrote a program called `coordinateCollector`, part of this repository, to source our base data. These are the chief features of `coordinateCollector`."
   ]
  },
  {
   "cell_type": "markdown",
   "metadata": {},
   "source": [
    "**Firstly**, we import the `googlemaps` package and create a `googlemaps.Client` object.\n",
    "\n",
    "```python\n",
    "import googlemaps\n",
    "\n",
    "with open(\"/Users/anthonymunnelly/Documents/TECH/Google API/api.json\", 'r') as f:\n",
    "    myKey = json.load(f)\n",
    "\n",
    "gmaps = googlemaps.Client(key=myKey['mapper'])\n",
    "```"
   ]
  },
  {
   "cell_type": "markdown",
   "metadata": {},
   "source": [
    "**Next**, we write two small helper functions; `coordinate_finder()`, to tell us whether or not we've got a good result, and `address_components_searcher()`, to catch the full post code or other address-level detail of an address if we can find it:\n",
    "\n",
    "```python\n",
    "def coordinate_finder(anAddress):\n",
    "    result = gmaps.geocode(anAddress)\n",
    "    if len(result) > 0:\n",
    "        return result[0]\n",
    "    else:\n",
    "        return -1\n",
    "        \n",
    "def address_components_searcher(component_list, sought_item):\n",
    "    returnValue = ''\n",
    "    for c in component_list:\n",
    "        if sought_item in c['types']:\n",
    "            returnValue = c['short_name']\n",
    "    \n",
    "    return returnValue\n",
    "```"
   ]
  },
  {
   "cell_type": "markdown",
   "metadata": {},
   "source": [
    "**Finally**, there is the major `get_geodata()` function that queries the the API for each row of data in our original `PPR-2016-Dublin.csv` file:\n",
    "\n",
    "```python\n",
    "def get_geodata(address_list):\n",
    "    houses_list = []\n",
    "    bad_addresses_list = []\n",
    "    geodata_list = []\n",
    "    \n",
    "    for item in address_list:\n",
    "        try:\n",
    "            geocode = coordinate_finder(item[1])\n",
    "            if geocode == -1:\n",
    "                bad_addresses_list.append(item)\n",
    "                continue\n",
    "            else:\n",
    "                address = geocode['formatted_address']\n",
    "                latitude = geocode['geometry']['location']['lat']\n",
    "                longitude = geocode['geometry']['location']['lng']\n",
    "                postcode = address_components_searcher(geocode['address_components'], 'postal_code')\n",
    "                \n",
    "                clean_line = [item[0],\n",
    "                              address,\n",
    "                              postcode,\n",
    "                              item[3],\n",
    "                                item[4],\n",
    "                                item[5],\n",
    "                                item[6],\n",
    "                                item[7],\n",
    "                                item[8],\n",
    "                                latitude,\n",
    "                                longitude]\n",
    "                \n",
    "                houses_list.append(clean_line)\n",
    "                geodata_list.append(geocode)\n",
    "            if (address_list.index(item)+1) % 250 == 0:\n",
    "                print \"\\tItem #{} just processed.\".format(address_list.index(item)+1)\n",
    "        except:\n",
    "            bad_addresses_list.append(item)\n",
    "            continue\n",
    "        \n",
    "    return (houses_list, bad_addresses_list, geodata_list)\n",
    "```"
   ]
  },
  {
   "cell_type": "markdown",
   "metadata": {},
   "source": [
    "### Cleaning Up the New Data\n",
    "We have two pickled data frames on the hard drive thanks to our `coordinateCollector` program. Let's take a look at them."
   ]
  },
  {
   "cell_type": "code",
   "execution_count": 7,
   "metadata": {
    "collapsed": false
   },
   "outputs": [],
   "source": [
    "import pickle\n",
    "\n",
    "with open('Pickles/2015/houses_pickle', 'r') as f:\n",
    "    good_addresses = pickle.load(f)\n",
    "    \n",
    "with open('Pickles/2015/bad_add_pickle', 'r') as f:\n",
    "    bad_addresses = pickle.load(f)"
   ]
  },
  {
   "cell_type": "code",
   "execution_count": 8,
   "metadata": {
    "collapsed": false
   },
   "outputs": [
    {
     "data": {
      "text/html": [
       "<div>\n",
       "<table border=\"1\" class=\"dataframe\">\n",
       "  <thead>\n",
       "    <tr style=\"text-align: right;\">\n",
       "      <th></th>\n",
       "      <th>Date</th>\n",
       "      <th>Address</th>\n",
       "      <th>PostCode</th>\n",
       "      <th>County</th>\n",
       "      <th>Price</th>\n",
       "      <th>FullMarketPrice</th>\n",
       "      <th>VAT</th>\n",
       "      <th>Description</th>\n",
       "      <th>Size</th>\n",
       "      <th>Lat</th>\n",
       "      <th>Lon</th>\n",
       "    </tr>\n",
       "  </thead>\n",
       "  <tbody>\n",
       "    <tr>\n",
       "      <th>0</th>\n",
       "      <td>02/01/2015</td>\n",
       "      <td>The Cedars, Monkstown Valley, Montpelier, Monk...</td>\n",
       "      <td></td>\n",
       "      <td>Dublin</td>\n",
       "      <td>270,000.00</td>\n",
       "      <td>No</td>\n",
       "      <td>No</td>\n",
       "      <td>Second-Hand Dwelling house /Apartment</td>\n",
       "      <td></td>\n",
       "      <td>53.293529</td>\n",
       "      <td>-6.161688</td>\n",
       "    </tr>\n",
       "    <tr>\n",
       "      <th>1</th>\n",
       "      <td>02/01/2015</td>\n",
       "      <td>4 Shrewsbury, Dublin 4, D04 F2W5, Ireland</td>\n",
       "      <td>D04 F2W5</td>\n",
       "      <td>Dublin</td>\n",
       "      <td>900,000.00</td>\n",
       "      <td>No</td>\n",
       "      <td>No</td>\n",
       "      <td>Second-Hand Dwelling house /Apartment</td>\n",
       "      <td></td>\n",
       "      <td>53.325366</td>\n",
       "      <td>-6.220155</td>\n",
       "    </tr>\n",
       "    <tr>\n",
       "      <th>2</th>\n",
       "      <td>04/01/2015</td>\n",
       "      <td>73 Forbes Ln, Ushers, Dublin, Ireland</td>\n",
       "      <td></td>\n",
       "      <td>Dublin</td>\n",
       "      <td>422,500.00</td>\n",
       "      <td>No</td>\n",
       "      <td>No</td>\n",
       "      <td>Second-Hand Dwelling house /Apartment</td>\n",
       "      <td></td>\n",
       "      <td>53.339424</td>\n",
       "      <td>-6.287743</td>\n",
       "    </tr>\n",
       "    <tr>\n",
       "      <th>3</th>\n",
       "      <td>05/01/2015</td>\n",
       "      <td>12 Navan Rd, Villa Park Ave, Ashtown, Dublin 7...</td>\n",
       "      <td>D07 HR6T</td>\n",
       "      <td>Dublin</td>\n",
       "      <td>510,000.00</td>\n",
       "      <td>No</td>\n",
       "      <td>No</td>\n",
       "      <td>Second-Hand Dwelling house /Apartment</td>\n",
       "      <td></td>\n",
       "      <td>53.364181</td>\n",
       "      <td>-6.311671</td>\n",
       "    </tr>\n",
       "    <tr>\n",
       "      <th>4</th>\n",
       "      <td>05/01/2015</td>\n",
       "      <td>147 Owen's Ave, Ceannt Fort, Mount Brown, Dubl...</td>\n",
       "      <td>D08 FE8D</td>\n",
       "      <td>Dublin</td>\n",
       "      <td>306,000.00</td>\n",
       "      <td>No</td>\n",
       "      <td>No</td>\n",
       "      <td>Second-Hand Dwelling house /Apartment</td>\n",
       "      <td></td>\n",
       "      <td>53.341012</td>\n",
       "      <td>-6.296926</td>\n",
       "    </tr>\n",
       "  </tbody>\n",
       "</table>\n",
       "</div>"
      ],
      "text/plain": [
       "         Date                                            Address  PostCode  \\\n",
       "0  02/01/2015  The Cedars, Monkstown Valley, Montpelier, Monk...             \n",
       "1  02/01/2015          4 Shrewsbury, Dublin 4, D04 F2W5, Ireland  D04 F2W5   \n",
       "2  04/01/2015              73 Forbes Ln, Ushers, Dublin, Ireland             \n",
       "3  05/01/2015  12 Navan Rd, Villa Park Ave, Ashtown, Dublin 7...  D07 HR6T   \n",
       "4  05/01/2015  147 Owen's Ave, Ceannt Fort, Mount Brown, Dubl...  D08 FE8D   \n",
       "\n",
       "   County        Price FullMarketPrice VAT  \\\n",
       "0  Dublin  270,000.00              No  No   \n",
       "1  Dublin  900,000.00              No  No   \n",
       "2  Dublin  422,500.00              No  No   \n",
       "3  Dublin  510,000.00              No  No   \n",
       "4  Dublin  306,000.00              No  No   \n",
       "\n",
       "                             Description Size        Lat       Lon  \n",
       "0  Second-Hand Dwelling house /Apartment       53.293529 -6.161688  \n",
       "1  Second-Hand Dwelling house /Apartment       53.325366 -6.220155  \n",
       "2  Second-Hand Dwelling house /Apartment       53.339424 -6.287743  \n",
       "3  Second-Hand Dwelling house /Apartment       53.364181 -6.311671  \n",
       "4  Second-Hand Dwelling house /Apartment       53.341012 -6.296926  "
      ]
     },
     "execution_count": 8,
     "metadata": {},
     "output_type": "execute_result"
    }
   ],
   "source": [
    "good_addresses.head()"
   ]
  },
  {
   "cell_type": "code",
   "execution_count": 9,
   "metadata": {
    "collapsed": false
   },
   "outputs": [
    {
     "data": {
      "text/html": [
       "<div>\n",
       "<table border=\"1\" class=\"dataframe\">\n",
       "  <thead>\n",
       "    <tr style=\"text-align: right;\">\n",
       "      <th></th>\n",
       "      <th>Date</th>\n",
       "      <th>Address</th>\n",
       "      <th>PostCode</th>\n",
       "      <th>County</th>\n",
       "      <th>Price</th>\n",
       "      <th>FullMarketPrice</th>\n",
       "      <th>VAT</th>\n",
       "      <th>Description</th>\n",
       "      <th>Size</th>\n",
       "    </tr>\n",
       "  </thead>\n",
       "  <tbody>\n",
       "    <tr>\n",
       "      <th>0</th>\n",
       "      <td>02/01/2015</td>\n",
       "      <td>108 THE HARDWICKE VILLAGE, NORTH BRUNSWICK ST,...</td>\n",
       "      <td>Dublin 7</td>\n",
       "      <td>Dublin</td>\n",
       "      <td>138,000.00</td>\n",
       "      <td>No</td>\n",
       "      <td>No</td>\n",
       "      <td>Second-Hand Dwelling house /Apartment</td>\n",
       "      <td></td>\n",
       "    </tr>\n",
       "    <tr>\n",
       "      <th>1</th>\n",
       "      <td>03/01/2015</td>\n",
       "      <td>46 HOLYWELL, UPR KILMACUD RD, DUBLIN 14</td>\n",
       "      <td>Dublin 14</td>\n",
       "      <td>Dublin</td>\n",
       "      <td>592,000.00</td>\n",
       "      <td>No</td>\n",
       "      <td>No</td>\n",
       "      <td>Second-Hand Dwelling house /Apartment</td>\n",
       "      <td></td>\n",
       "    </tr>\n",
       "    <tr>\n",
       "      <th>2</th>\n",
       "      <td>05/01/2015</td>\n",
       "      <td>65 MALTON HOUSE, CUSTOM HOUSE SQ, MAYOR ST LOW...</td>\n",
       "      <td>Dublin 1</td>\n",
       "      <td>Dublin</td>\n",
       "      <td>345,000.00</td>\n",
       "      <td>No</td>\n",
       "      <td>No</td>\n",
       "      <td>Second-Hand Dwelling house /Apartment</td>\n",
       "      <td></td>\n",
       "    </tr>\n",
       "    <tr>\n",
       "      <th>3</th>\n",
       "      <td>05/01/2015</td>\n",
       "      <td>7 ST FINBARR'S ROAD, CABRA, DUBLIN 7</td>\n",
       "      <td>Dublin 7</td>\n",
       "      <td>Dublin</td>\n",
       "      <td>235,000.00</td>\n",
       "      <td>No</td>\n",
       "      <td>No</td>\n",
       "      <td>Second-Hand Dwelling house /Apartment</td>\n",
       "      <td></td>\n",
       "    </tr>\n",
       "    <tr>\n",
       "      <th>4</th>\n",
       "      <td>05/01/2015</td>\n",
       "      <td>The Grange, 1 and 2 FITZWILLIAM PLACE NORTH, D...</td>\n",
       "      <td>Dublin 7</td>\n",
       "      <td>Dublin</td>\n",
       "      <td>354,000.00</td>\n",
       "      <td>No</td>\n",
       "      <td>No</td>\n",
       "      <td>Second-Hand Dwelling house /Apartment</td>\n",
       "      <td></td>\n",
       "    </tr>\n",
       "  </tbody>\n",
       "</table>\n",
       "</div>"
      ],
      "text/plain": [
       "         Date                                            Address   PostCode  \\\n",
       "0  02/01/2015  108 THE HARDWICKE VILLAGE, NORTH BRUNSWICK ST,...   Dublin 7   \n",
       "1  03/01/2015            46 HOLYWELL, UPR KILMACUD RD, DUBLIN 14  Dublin 14   \n",
       "2  05/01/2015  65 MALTON HOUSE, CUSTOM HOUSE SQ, MAYOR ST LOW...   Dublin 1   \n",
       "3  05/01/2015               7 ST FINBARR'S ROAD, CABRA, DUBLIN 7   Dublin 7   \n",
       "4  05/01/2015  The Grange, 1 and 2 FITZWILLIAM PLACE NORTH, D...   Dublin 7   \n",
       "\n",
       "   County        Price FullMarketPrice VAT  \\\n",
       "0  Dublin  138,000.00              No  No   \n",
       "1  Dublin  592,000.00              No  No   \n",
       "2  Dublin  345,000.00              No  No   \n",
       "3  Dublin  235,000.00              No  No   \n",
       "4  Dublin  354,000.00              No  No   \n",
       "\n",
       "                             Description Size  \n",
       "0  Second-Hand Dwelling house /Apartment       \n",
       "1  Second-Hand Dwelling house /Apartment       \n",
       "2  Second-Hand Dwelling house /Apartment       \n",
       "3  Second-Hand Dwelling house /Apartment       \n",
       "4  Second-Hand Dwelling house /Apartment       "
      ]
     },
     "execution_count": 9,
     "metadata": {},
     "output_type": "execute_result"
    }
   ],
   "source": [
    "bad_addresses.head()"
   ]
  },
  {
   "cell_type": "code",
   "execution_count": 11,
   "metadata": {
    "collapsed": false
   },
   "outputs": [
    {
     "name": "stdout",
     "output_type": "stream",
     "text": [
      "Houses has a shape of (15380, 9).\n",
      "Bad_addresses has a shape of (2596, 9).\n"
     ]
    }
   ],
   "source": [
    "print \"Houses has a shape of {}.\\nBad_addresses has a shape of {}.\".format(houses.shape, bad_addresses.shape)"
   ]
  },
  {
   "cell_type": "markdown",
   "metadata": {},
   "source": [
    "#### Bad v Good Addresses\n",
    "The difference between bad and good addresss is the presence of coordinates in good addresses, and the absence of coordinates in the bad data. Otherwise, the data is quite the same. Therefore, although the `coordinateCollector` program divides the two data sets, it makes sense for us to unite them here into a single data frame, `houses`."
   ]
  },
  {
   "cell_type": "code",
   "execution_count": 12,
   "metadata": {
    "collapsed": false
   },
   "outputs": [],
   "source": [
    "import numpy as np\n",
    "bad_addresses['Lat'] = np.nan\n",
    "bad_addresses['Lon'] = np.nan"
   ]
  },
  {
   "cell_type": "code",
   "execution_count": 13,
   "metadata": {
    "collapsed": false
   },
   "outputs": [
    {
     "data": {
      "text/html": [
       "<div>\n",
       "<table border=\"1\" class=\"dataframe\">\n",
       "  <thead>\n",
       "    <tr style=\"text-align: right;\">\n",
       "      <th></th>\n",
       "      <th>Date</th>\n",
       "      <th>Address</th>\n",
       "      <th>PostCode</th>\n",
       "      <th>County</th>\n",
       "      <th>Price</th>\n",
       "      <th>FullMarketPrice</th>\n",
       "      <th>VAT</th>\n",
       "      <th>Description</th>\n",
       "      <th>Size</th>\n",
       "      <th>Lat</th>\n",
       "      <th>Lon</th>\n",
       "    </tr>\n",
       "  </thead>\n",
       "  <tbody>\n",
       "    <tr>\n",
       "      <th>0</th>\n",
       "      <td>02/01/2015</td>\n",
       "      <td>The Cedars, Monkstown Valley, Montpelier, Monk...</td>\n",
       "      <td></td>\n",
       "      <td>Dublin</td>\n",
       "      <td>270,000.00</td>\n",
       "      <td>No</td>\n",
       "      <td>No</td>\n",
       "      <td>Second-Hand Dwelling house /Apartment</td>\n",
       "      <td></td>\n",
       "      <td>53.293529</td>\n",
       "      <td>-6.161688</td>\n",
       "    </tr>\n",
       "    <tr>\n",
       "      <th>1</th>\n",
       "      <td>02/01/2015</td>\n",
       "      <td>4 Shrewsbury, Dublin 4, D04 F2W5, Ireland</td>\n",
       "      <td>D04 F2W5</td>\n",
       "      <td>Dublin</td>\n",
       "      <td>900,000.00</td>\n",
       "      <td>No</td>\n",
       "      <td>No</td>\n",
       "      <td>Second-Hand Dwelling house /Apartment</td>\n",
       "      <td></td>\n",
       "      <td>53.325366</td>\n",
       "      <td>-6.220155</td>\n",
       "    </tr>\n",
       "    <tr>\n",
       "      <th>2</th>\n",
       "      <td>04/01/2015</td>\n",
       "      <td>73 Forbes Ln, Ushers, Dublin, Ireland</td>\n",
       "      <td></td>\n",
       "      <td>Dublin</td>\n",
       "      <td>422,500.00</td>\n",
       "      <td>No</td>\n",
       "      <td>No</td>\n",
       "      <td>Second-Hand Dwelling house /Apartment</td>\n",
       "      <td></td>\n",
       "      <td>53.339424</td>\n",
       "      <td>-6.287743</td>\n",
       "    </tr>\n",
       "    <tr>\n",
       "      <th>3</th>\n",
       "      <td>05/01/2015</td>\n",
       "      <td>12 Navan Rd, Villa Park Ave, Ashtown, Dublin 7...</td>\n",
       "      <td>D07 HR6T</td>\n",
       "      <td>Dublin</td>\n",
       "      <td>510,000.00</td>\n",
       "      <td>No</td>\n",
       "      <td>No</td>\n",
       "      <td>Second-Hand Dwelling house /Apartment</td>\n",
       "      <td></td>\n",
       "      <td>53.364181</td>\n",
       "      <td>-6.311671</td>\n",
       "    </tr>\n",
       "    <tr>\n",
       "      <th>4</th>\n",
       "      <td>05/01/2015</td>\n",
       "      <td>147 Owen's Ave, Ceannt Fort, Mount Brown, Dubl...</td>\n",
       "      <td>D08 FE8D</td>\n",
       "      <td>Dublin</td>\n",
       "      <td>306,000.00</td>\n",
       "      <td>No</td>\n",
       "      <td>No</td>\n",
       "      <td>Second-Hand Dwelling house /Apartment</td>\n",
       "      <td></td>\n",
       "      <td>53.341012</td>\n",
       "      <td>-6.296926</td>\n",
       "    </tr>\n",
       "  </tbody>\n",
       "</table>\n",
       "</div>"
      ],
      "text/plain": [
       "         Date                                            Address  PostCode  \\\n",
       "0  02/01/2015  The Cedars, Monkstown Valley, Montpelier, Monk...             \n",
       "1  02/01/2015          4 Shrewsbury, Dublin 4, D04 F2W5, Ireland  D04 F2W5   \n",
       "2  04/01/2015              73 Forbes Ln, Ushers, Dublin, Ireland             \n",
       "3  05/01/2015  12 Navan Rd, Villa Park Ave, Ashtown, Dublin 7...  D07 HR6T   \n",
       "4  05/01/2015  147 Owen's Ave, Ceannt Fort, Mount Brown, Dubl...  D08 FE8D   \n",
       "\n",
       "   County        Price FullMarketPrice VAT  \\\n",
       "0  Dublin  270,000.00              No  No   \n",
       "1  Dublin  900,000.00              No  No   \n",
       "2  Dublin  422,500.00              No  No   \n",
       "3  Dublin  510,000.00              No  No   \n",
       "4  Dublin  306,000.00              No  No   \n",
       "\n",
       "                             Description Size        Lat       Lon  \n",
       "0  Second-Hand Dwelling house /Apartment       53.293529 -6.161688  \n",
       "1  Second-Hand Dwelling house /Apartment       53.325366 -6.220155  \n",
       "2  Second-Hand Dwelling house /Apartment       53.339424 -6.287743  \n",
       "3  Second-Hand Dwelling house /Apartment       53.364181 -6.311671  \n",
       "4  Second-Hand Dwelling house /Apartment       53.341012 -6.296926  "
      ]
     },
     "execution_count": 13,
     "metadata": {},
     "output_type": "execute_result"
    }
   ],
   "source": [
    "houses = pd.concat([good_addresses, bad_addresses], ignore_index=True)\n",
    "houses.head()"
   ]
  },
  {
   "cell_type": "code",
   "execution_count": 14,
   "metadata": {
    "collapsed": false
   },
   "outputs": [
    {
     "data": {
      "text/plain": [
       "Date                object\n",
       "Address             object\n",
       "PostCode            object\n",
       "County              object\n",
       "Price               object\n",
       "FullMarketPrice     object\n",
       "VAT                 object\n",
       "Description         object\n",
       "Size                object\n",
       "Lat                float64\n",
       "Lon                float64\n",
       "dtype: object"
      ]
     },
     "execution_count": 14,
     "metadata": {},
     "output_type": "execute_result"
    }
   ],
   "source": [
    "houses.dtypes"
   ]
  },
  {
   "cell_type": "markdown",
   "metadata": {},
   "source": [
    "#### Tidying Some Formats\n",
    "We need to convert the date and price columns to datetime and float data types, respectively. The date conversion is straight-forward. The price less so, probably due to the _latin-1_ encoding - casting `astype(float)` doesn't work. But it still can be done, of course, even if we have to go the long way around."
   ]
  },
  {
   "cell_type": "code",
   "execution_count": 15,
   "metadata": {
    "collapsed": false
   },
   "outputs": [
    {
     "data": {
      "text/plain": [
       "Date               datetime64[ns]\n",
       "Address                    object\n",
       "PostCode                   object\n",
       "County                     object\n",
       "FullMarketPrice            object\n",
       "VAT                        object\n",
       "Description                object\n",
       "Size                       object\n",
       "Lat                       float64\n",
       "Lon                       float64\n",
       "Price                     float64\n",
       "dtype: object"
      ]
     },
     "execution_count": 15,
     "metadata": {},
     "output_type": "execute_result"
    }
   ],
   "source": [
    "houses['Date'] = pd.to_datetime(houses['Date'], dayfirst = True)\n",
    "\n",
    "def price_destringer(someString):\n",
    "    someOtherString = ''\n",
    "    for s in someString:\n",
    "        if s.isdigit() or s == '.':\n",
    "            someOtherString = someOtherString + s\n",
    "        else:\n",
    "            pass\n",
    "        \n",
    "    return float(someOtherString)\n",
    "\n",
    "houses['aPrice'] = houses['Price'].apply(price_destringer)\n",
    "del(houses['Price'])\n",
    "houses.rename(columns = {'aPrice':'Price'}, inplace = True)\n",
    "houses.dtypes"
   ]
  },
  {
   "cell_type": "markdown",
   "metadata": {},
   "source": [
    "### Removing Outliers"
   ]
  },
  {
   "cell_type": "code",
   "execution_count": 32,
   "metadata": {
    "collapsed": false
   },
   "outputs": [
    {
     "data": {
      "text/html": [
       "<div>\n",
       "<table border=\"1\" class=\"dataframe\">\n",
       "  <thead>\n",
       "    <tr style=\"text-align: right;\">\n",
       "      <th></th>\n",
       "      <th>Lat</th>\n",
       "      <th>Lon</th>\n",
       "      <th>Price</th>\n",
       "    </tr>\n",
       "  </thead>\n",
       "  <tbody>\n",
       "    <tr>\n",
       "      <th>count</th>\n",
       "      <td>12783.000000</td>\n",
       "      <td>12783.000000</td>\n",
       "      <td>1.537900e+04</td>\n",
       "    </tr>\n",
       "    <tr>\n",
       "      <th>mean</th>\n",
       "      <td>52.946736</td>\n",
       "      <td>-7.506409</td>\n",
       "      <td>3.509833e+05</td>\n",
       "    </tr>\n",
       "    <tr>\n",
       "      <th>std</th>\n",
       "      <td>3.986684</td>\n",
       "      <td>12.639335</td>\n",
       "      <td>5.024059e+05</td>\n",
       "    </tr>\n",
       "    <tr>\n",
       "      <th>min</th>\n",
       "      <td>-43.567502</td>\n",
       "      <td>-122.649297</td>\n",
       "      <td>5.500000e+03</td>\n",
       "    </tr>\n",
       "    <tr>\n",
       "      <th>25%</th>\n",
       "      <td>53.294729</td>\n",
       "      <td>-6.325836</td>\n",
       "      <td>1.881855e+05</td>\n",
       "    </tr>\n",
       "    <tr>\n",
       "      <th>50%</th>\n",
       "      <td>53.342868</td>\n",
       "      <td>-6.258699</td>\n",
       "      <td>2.690000e+05</td>\n",
       "    </tr>\n",
       "    <tr>\n",
       "      <th>75%</th>\n",
       "      <td>53.387470</td>\n",
       "      <td>-6.201215</td>\n",
       "      <td>4.000000e+05</td>\n",
       "    </tr>\n",
       "    <tr>\n",
       "      <th>max</th>\n",
       "      <td>68.766224</td>\n",
       "      <td>174.792437</td>\n",
       "      <td>3.504571e+07</td>\n",
       "    </tr>\n",
       "  </tbody>\n",
       "</table>\n",
       "</div>"
      ],
      "text/plain": [
       "                Lat           Lon         Price\n",
       "count  12783.000000  12783.000000  1.537900e+04\n",
       "mean      52.946736     -7.506409  3.509833e+05\n",
       "std        3.986684     12.639335  5.024059e+05\n",
       "min      -43.567502   -122.649297  5.500000e+03\n",
       "25%       53.294729     -6.325836  1.881855e+05\n",
       "50%       53.342868     -6.258699  2.690000e+05\n",
       "75%       53.387470     -6.201215  4.000000e+05\n",
       "max       68.766224    174.792437  3.504571e+07"
      ]
     },
     "execution_count": 32,
     "metadata": {},
     "output_type": "execute_result"
    }
   ],
   "source": [
    "houses.describe()"
   ]
  },
  {
   "cell_type": "code",
   "execution_count": 45,
   "metadata": {
    "collapsed": false
   },
   "outputs": [
    {
     "data": {
      "text/html": [
       "<div>\n",
       "<table border=\"1\" class=\"dataframe\">\n",
       "  <thead>\n",
       "    <tr style=\"text-align: right;\">\n",
       "      <th></th>\n",
       "      <th>Lat</th>\n",
       "      <th>Lon</th>\n",
       "      <th>Price</th>\n",
       "    </tr>\n",
       "  </thead>\n",
       "  <tbody>\n",
       "    <tr>\n",
       "      <th>count</th>\n",
       "      <td>11029.000000</td>\n",
       "      <td>11029.000000</td>\n",
       "      <td>1.102900e+04</td>\n",
       "    </tr>\n",
       "    <tr>\n",
       "      <th>mean</th>\n",
       "      <td>53.334957</td>\n",
       "      <td>-6.274692</td>\n",
       "      <td>3.643185e+05</td>\n",
       "    </tr>\n",
       "    <tr>\n",
       "      <th>std</th>\n",
       "      <td>0.045720</td>\n",
       "      <td>0.088110</td>\n",
       "      <td>3.547481e+05</td>\n",
       "    </tr>\n",
       "    <tr>\n",
       "      <th>min</th>\n",
       "      <td>53.193504</td>\n",
       "      <td>-6.503346</td>\n",
       "      <td>5.500000e+03</td>\n",
       "    </tr>\n",
       "    <tr>\n",
       "      <th>25%</th>\n",
       "      <td>53.292949</td>\n",
       "      <td>-6.330622</td>\n",
       "      <td>1.915000e+05</td>\n",
       "    </tr>\n",
       "    <tr>\n",
       "      <th>50%</th>\n",
       "      <td>53.337532</td>\n",
       "      <td>-6.267726</td>\n",
       "      <td>2.805000e+05</td>\n",
       "    </tr>\n",
       "    <tr>\n",
       "      <th>75%</th>\n",
       "      <td>53.373652</td>\n",
       "      <td>-6.215057</td>\n",
       "      <td>4.250000e+05</td>\n",
       "    </tr>\n",
       "    <tr>\n",
       "      <th>max</th>\n",
       "      <td>53.426158</td>\n",
       "      <td>-6.053658</td>\n",
       "      <td>1.040000e+07</td>\n",
       "    </tr>\n",
       "  </tbody>\n",
       "</table>\n",
       "</div>"
      ],
      "text/plain": [
       "                Lat           Lon         Price\n",
       "count  11029.000000  11029.000000  1.102900e+04\n",
       "mean      53.334957     -6.274692  3.643185e+05\n",
       "std        0.045720      0.088110  3.547481e+05\n",
       "min       53.193504     -6.503346  5.500000e+03\n",
       "25%       53.292949     -6.330622  1.915000e+05\n",
       "50%       53.337532     -6.267726  2.805000e+05\n",
       "75%       53.373652     -6.215057  4.250000e+05\n",
       "max       53.426158     -6.053658  1.040000e+07"
      ]
     },
     "execution_count": 45,
     "metadata": {},
     "output_type": "execute_result"
    }
   ],
   "source": [
    "airport = (53.426621, -6.249899)\n",
    "greystones = (53.148672, -6.092088)\n",
    "leixlip_amenities = (53.371680, -6.514402)\n",
    "middle_irish_sea = (53.329053, -5.341059)\n",
    "\n",
    "houses = houses[(houses.Lat <= airport[0]) & (houses.Lat >= greystones[0])]\n",
    "houses = houses[(houses.Lon <= middle_irish_sea[1]) & (houses.Lon >= leixlip_amenities[1])]\n",
    "\n",
    "houses.describe()"
   ]
  },
  {
   "cell_type": "markdown",
   "metadata": {},
   "source": [
    "### The Postcodes\n",
    "The _PostCode_ column contains a mix of data formats - the modern XXX XXXX format; the traditional Dublin 4-style format, and blanks. We're going to use a function, `tidy_postcodes()`, to create a second postcode column, PC, that will;\n",
    "1. Return the first three characters of the new post code format if the extant post code is that format;\n",
    "2. Return the first three characters of the new post code format if the extant post code is of the old-style Dublin post-code format, using the easy-to_create `short_postcode_dictionary`; and\n",
    "3. Return glugger, from the Irish _ubh ghliogair_, a rotten egg, if the post code is neither of the above.\n",
    "\n",
    "The first three characters of the new post codes are called the **Eircode Routing Keys** - I am indebted to Green Party Councillor for Dún Laoghaire, Ossian Smyth, for his excellent breakdown of these Eircode Routing keys on his website [here](http://www.ossiansmyth.ie/eircode-routing-keys/)."
   ]
  },
  {
   "cell_type": "code",
   "execution_count": 46,
   "metadata": {
    "collapsed": false
   },
   "outputs": [
    {
     "data": {
      "text/plain": [
       "glugger    4250\n",
       "D15         696\n",
       "D24         455\n",
       "D12         437\n",
       "D11         389\n",
       "D16         368\n",
       "D07         358\n",
       "D03         345\n",
       "D09         342\n",
       "D13         322\n",
       "K78         308\n",
       "A94         305\n",
       "D05         293\n",
       "D14         280\n",
       "D04         273\n",
       "A96         253\n",
       "D08         253\n",
       "D06         251\n",
       "D18         230\n",
       "D22         216\n",
       "D01         111\n",
       "D10         104\n",
       "D20          68\n",
       "D02          57\n",
       "D17          47\n",
       "A98          16\n",
       "K67           1\n",
       "A86           1\n",
       "Name: PC, dtype: int64"
      ]
     },
     "execution_count": 46,
     "metadata": {},
     "output_type": "execute_result"
    }
   ],
   "source": [
    "import re\n",
    "\n",
    "short_postcode_mapper = {}\n",
    "for x in range(1,25):\n",
    "    myKey = 'Dublin {}'.format(x)\n",
    "    myValue = 'D{:02}'.format(x)\n",
    "    short_postcode_mapper[myKey] = myValue\n",
    "short_postcode_mapper['Dublin 6W'] = 'D06'\n",
    "short_postcode_mapper['Dublin 6w'] = 'D06'\n",
    "\n",
    "new_postcode = re.compile('[A-Z][0-9]{2}')\n",
    "old_postcode = re.compile('Dublin [0-9]{1,2}')\n",
    "\n",
    "def tidy_postcode(somePostCode):\n",
    "    if re.match(old_postcode, somePostCode):\n",
    "        return short_postcode_mapper[somePostCode]\n",
    "    elif re.match(new_postcode, somePostCode):\n",
    "        return somePostCode[:3]\n",
    "    else:\n",
    "        return 'glugger'\n",
    "    \n",
    "houses['PC'] = houses['PostCode'].apply(tidy_postcode)\n",
    "houses.PC.value_counts()"
   ]
  },
  {
   "cell_type": "markdown",
   "metadata": {},
   "source": [
    "#### Using Machine Learning to Deal With the Gluggers\n",
    "This is interesting. We have six thousand addresses of houses sold in 2015 for which we cannot track down an Eircode Key. Is there any way we can reduce that number?\n",
    "\n",
    "Well, yes there is is. The presence of the addresses for which we have both geographic coordinates and an Eircode Key can help up train a model that will will help us track down Eircode Keys for addresses for which we have only coordinates. This is how we'll do it:\n",
    "\n",
    "1. We have to divide our data frame into three types.\n",
    "    * `good_eggs`, which is where we have both post codes and coordinates,\n",
    "    * `glugger_coord`, where we have coordinates but no post code.\n",
    "    * `glugger_lost`, where we have neither coordinate nor post code.\n",
    "2. This being done, we can use the extant post codes in the `good_eggs` to train a Naive Bayes classification model.\n",
    "3. We can then use our Naive Bayes model to assign post codes to our `glugger_coord` data frame, using the co-ordinates.\n",
    "4. Concatenate the three data frames again\n",
    "5. Resolve the different post code columns"
   ]
  },
  {
   "cell_type": "code",
   "execution_count": 47,
   "metadata": {
    "collapsed": false
   },
   "outputs": [
    {
     "name": "stdout",
     "output_type": "stream",
     "text": [
      "(4250, 12)\n",
      "(0, 12)\n",
      "(6779, 12)\n",
      "               Lat          Lon         Price\n",
      "count  6779.000000  6779.000000  6.779000e+03\n",
      "mean     53.338735    -6.283300  3.604603e+05\n",
      "std       0.044714     0.088149  2.664078e+05\n",
      "min      53.208215    -6.495956  5.500000e+03\n",
      "25%      53.298074    -6.346284  2.003000e+05\n",
      "50%      53.340694    -6.274985  2.920000e+05\n",
      "75%      53.377848    -6.224101  4.300000e+05\n",
      "max      53.423594    -6.055984  3.600000e+06\n"
     ]
    }
   ],
   "source": [
    "glugger_coord = houses[(houses['PC'] == 'glugger') & (houses['Lat'].notnull())].copy()\n",
    "glugger_lost = houses[(houses['PC'] == 'glugger') & (houses['Lat'].isnull())].copy()\n",
    "good_eggs = houses[(houses['PC'] != 'glugger') & (houses['Lat'].notnull())].copy()\n",
    "print glugger_coord.shape\n",
    "print glugger_lost.shape\n",
    "print good_eggs.shape\n",
    "\n",
    "print good_eggs.describe()"
   ]
  },
  {
   "cell_type": "code",
   "execution_count": 48,
   "metadata": {
    "collapsed": false
   },
   "outputs": [
    {
     "data": {
      "text/plain": [
       "GaussianNB()"
      ]
     },
     "execution_count": 48,
     "metadata": {},
     "output_type": "execute_result"
    }
   ],
   "source": [
    "from sklearn.naive_bayes import GaussianNB\n",
    "from sklearn.cross_validation import train_test_split\n",
    "\n",
    "coords = good_eggs[['Lat', 'Lon']]\n",
    "\n",
    "f_train, f_test, l_train, l_test = train_test_split(coords,\n",
    "                                                    good_eggs['PC'],\n",
    "                                                    test_size = 0.25,\n",
    "                                                    random_state = 33)\n",
    "\n",
    "clf = GaussianNB()\n",
    "clf.fit(f_train, l_train)"
   ]
  },
  {
   "cell_type": "code",
   "execution_count": 49,
   "metadata": {
    "collapsed": false
   },
   "outputs": [
    {
     "name": "stdout",
     "output_type": "stream",
     "text": [
      "         Date                                            Address PostCode  \\\n",
      "0  2015-01-02  The Cedars, Monkstown Valley, Montpelier, Monk...            \n",
      "2  2015-01-04              73 Forbes Ln, Ushers, Dublin, Ireland            \n",
      "9  2015-01-05  New Row Place, New Row S, Merchants Quay, Dubl...            \n",
      "11 2015-01-05  The Courtyard, Clonsilla Rd, Blanchardstown, D...            \n",
      "13 2015-01-05  Marlay View, Ballinteer Ave, Ballinteer, Dubli...            \n",
      "\n",
      "    County FullMarketPrice VAT                            Description Size  \\\n",
      "0   Dublin              No  No  Second-Hand Dwelling house /Apartment        \n",
      "2   Dublin              No  No  Second-Hand Dwelling house /Apartment        \n",
      "9   Dublin              No  No  Second-Hand Dwelling house /Apartment        \n",
      "11  Dublin              No  No  Second-Hand Dwelling house /Apartment        \n",
      "13  Dublin              No  No  Second-Hand Dwelling house /Apartment        \n",
      "\n",
      "          Lat       Lon     Price       PC Predictions  \n",
      "0   53.293529 -6.161688  270000.0  glugger         A94  \n",
      "2   53.339424 -6.287743  422500.0  glugger         D08  \n",
      "9   53.338507 -6.273816  270000.0  glugger         D08  \n",
      "11  53.381272 -6.403729  140000.0  glugger         D15  \n",
      "13  53.273925 -6.258781  295000.0  glugger         D16  \n"
     ]
    }
   ],
   "source": [
    "glugger_coord['Predictions'] = clf.predict(glugger_coord[['Lat', 'Lon']])\n",
    "print glugger_coord.head()"
   ]
  },
  {
   "cell_type": "code",
   "execution_count": 50,
   "metadata": {
    "collapsed": false
   },
   "outputs": [
    {
     "data": {
      "text/html": [
       "<div>\n",
       "<table border=\"1\" class=\"dataframe\">\n",
       "  <thead>\n",
       "    <tr style=\"text-align: right;\">\n",
       "      <th></th>\n",
       "      <th>Address</th>\n",
       "      <th>County</th>\n",
       "      <th>Date</th>\n",
       "      <th>Description</th>\n",
       "      <th>FullMarketPrice</th>\n",
       "      <th>Lat</th>\n",
       "      <th>Lon</th>\n",
       "      <th>PC</th>\n",
       "      <th>PostCode</th>\n",
       "      <th>Predictions</th>\n",
       "      <th>Price</th>\n",
       "      <th>Size</th>\n",
       "      <th>VAT</th>\n",
       "    </tr>\n",
       "  </thead>\n",
       "  <tbody>\n",
       "    <tr>\n",
       "      <th>1</th>\n",
       "      <td>4 Shrewsbury, Dublin 4, D04 F2W5, Ireland</td>\n",
       "      <td>Dublin</td>\n",
       "      <td>2015-01-02</td>\n",
       "      <td>Second-Hand Dwelling house /Apartment</td>\n",
       "      <td>No</td>\n",
       "      <td>53.325366</td>\n",
       "      <td>-6.220155</td>\n",
       "      <td>D04</td>\n",
       "      <td>D04 F2W5</td>\n",
       "      <td>NaN</td>\n",
       "      <td>900000.0</td>\n",
       "      <td></td>\n",
       "      <td>No</td>\n",
       "    </tr>\n",
       "    <tr>\n",
       "      <th>3</th>\n",
       "      <td>12 Navan Rd, Villa Park Ave, Ashtown, Dublin 7...</td>\n",
       "      <td>Dublin</td>\n",
       "      <td>2015-01-05</td>\n",
       "      <td>Second-Hand Dwelling house /Apartment</td>\n",
       "      <td>No</td>\n",
       "      <td>53.364181</td>\n",
       "      <td>-6.311671</td>\n",
       "      <td>D07</td>\n",
       "      <td>D07 HR6T</td>\n",
       "      <td>NaN</td>\n",
       "      <td>510000.0</td>\n",
       "      <td></td>\n",
       "      <td>No</td>\n",
       "    </tr>\n",
       "    <tr>\n",
       "      <th>4</th>\n",
       "      <td>147 Owen's Ave, Ceannt Fort, Mount Brown, Dubl...</td>\n",
       "      <td>Dublin</td>\n",
       "      <td>2015-01-05</td>\n",
       "      <td>Second-Hand Dwelling house /Apartment</td>\n",
       "      <td>No</td>\n",
       "      <td>53.341012</td>\n",
       "      <td>-6.296926</td>\n",
       "      <td>D08</td>\n",
       "      <td>D08 FE8D</td>\n",
       "      <td>NaN</td>\n",
       "      <td>306000.0</td>\n",
       "      <td></td>\n",
       "      <td>No</td>\n",
       "    </tr>\n",
       "    <tr>\n",
       "      <th>6</th>\n",
       "      <td>15 Cruise Park Dr, Tyrrelstown, Dublin 15, D15...</td>\n",
       "      <td>Dublin</td>\n",
       "      <td>2015-01-05</td>\n",
       "      <td>Second-Hand Dwelling house /Apartment</td>\n",
       "      <td>No</td>\n",
       "      <td>53.418640</td>\n",
       "      <td>-6.393181</td>\n",
       "      <td>D15</td>\n",
       "      <td>D15 Y006</td>\n",
       "      <td>NaN</td>\n",
       "      <td>160000.0</td>\n",
       "      <td></td>\n",
       "      <td>No</td>\n",
       "    </tr>\n",
       "    <tr>\n",
       "      <th>7</th>\n",
       "      <td>2 Linnetfields Ct, Castaheany, Clonee, Co. Dub...</td>\n",
       "      <td>Dublin</td>\n",
       "      <td>2015-01-05</td>\n",
       "      <td>Second-Hand Dwelling house /Apartment</td>\n",
       "      <td>No</td>\n",
       "      <td>53.399187</td>\n",
       "      <td>-6.439088</td>\n",
       "      <td>D15</td>\n",
       "      <td>D15 K8H0</td>\n",
       "      <td>NaN</td>\n",
       "      <td>142000.0</td>\n",
       "      <td></td>\n",
       "      <td>No</td>\n",
       "    </tr>\n",
       "  </tbody>\n",
       "</table>\n",
       "</div>"
      ],
      "text/plain": [
       "                                             Address  County       Date  \\\n",
       "1          4 Shrewsbury, Dublin 4, D04 F2W5, Ireland  Dublin 2015-01-02   \n",
       "3  12 Navan Rd, Villa Park Ave, Ashtown, Dublin 7...  Dublin 2015-01-05   \n",
       "4  147 Owen's Ave, Ceannt Fort, Mount Brown, Dubl...  Dublin 2015-01-05   \n",
       "6  15 Cruise Park Dr, Tyrrelstown, Dublin 15, D15...  Dublin 2015-01-05   \n",
       "7  2 Linnetfields Ct, Castaheany, Clonee, Co. Dub...  Dublin 2015-01-05   \n",
       "\n",
       "                             Description FullMarketPrice        Lat       Lon  \\\n",
       "1  Second-Hand Dwelling house /Apartment              No  53.325366 -6.220155   \n",
       "3  Second-Hand Dwelling house /Apartment              No  53.364181 -6.311671   \n",
       "4  Second-Hand Dwelling house /Apartment              No  53.341012 -6.296926   \n",
       "6  Second-Hand Dwelling house /Apartment              No  53.418640 -6.393181   \n",
       "7  Second-Hand Dwelling house /Apartment              No  53.399187 -6.439088   \n",
       "\n",
       "    PC  PostCode Predictions     Price Size VAT  \n",
       "1  D04  D04 F2W5         NaN  900000.0       No  \n",
       "3  D07  D07 HR6T         NaN  510000.0       No  \n",
       "4  D08  D08 FE8D         NaN  306000.0       No  \n",
       "6  D15  D15 Y006         NaN  160000.0       No  \n",
       "7  D15  D15 K8H0         NaN  142000.0       No  "
      ]
     },
     "execution_count": 50,
     "metadata": {},
     "output_type": "execute_result"
    }
   ],
   "source": [
    "house_prices = pd.concat([good_eggs, glugger_coord, glugger_lost])\n",
    "house_prices.head()"
   ]
  },
  {
   "cell_type": "code",
   "execution_count": 51,
   "metadata": {
    "collapsed": false
   },
   "outputs": [
    {
     "data": {
      "text/html": [
       "<div>\n",
       "<table border=\"1\" class=\"dataframe\">\n",
       "  <thead>\n",
       "    <tr style=\"text-align: right;\">\n",
       "      <th></th>\n",
       "      <th>Address</th>\n",
       "      <th>County</th>\n",
       "      <th>Date</th>\n",
       "      <th>Description</th>\n",
       "      <th>FullMarketPrice</th>\n",
       "      <th>Lat</th>\n",
       "      <th>Lon</th>\n",
       "      <th>PC</th>\n",
       "      <th>PostCode</th>\n",
       "      <th>Predictions</th>\n",
       "      <th>Price</th>\n",
       "      <th>Size</th>\n",
       "      <th>VAT</th>\n",
       "    </tr>\n",
       "  </thead>\n",
       "  <tbody>\n",
       "    <tr>\n",
       "      <th>12770</th>\n",
       "      <td>Tall Trees, Rugged Ln, Astagob, Co. Dublin, Ir...</td>\n",
       "      <td>Dublin</td>\n",
       "      <td>2015-12-23</td>\n",
       "      <td>Second-Hand Dwelling house /Apartment</td>\n",
       "      <td>No</td>\n",
       "      <td>53.370654</td>\n",
       "      <td>-6.409168</td>\n",
       "      <td>glugger</td>\n",
       "      <td></td>\n",
       "      <td>D15</td>\n",
       "      <td>654000.00</td>\n",
       "      <td></td>\n",
       "      <td>No</td>\n",
       "    </tr>\n",
       "    <tr>\n",
       "      <th>12771</th>\n",
       "      <td>The Laurels, Victoria Terrace, Dalkey Ave, Dal...</td>\n",
       "      <td>Dublin</td>\n",
       "      <td>2015-12-23</td>\n",
       "      <td>Second-Hand Dwelling house /Apartment</td>\n",
       "      <td>No</td>\n",
       "      <td>53.273276</td>\n",
       "      <td>-6.110044</td>\n",
       "      <td>glugger</td>\n",
       "      <td></td>\n",
       "      <td>A96</td>\n",
       "      <td>466960.35</td>\n",
       "      <td></td>\n",
       "      <td>No</td>\n",
       "    </tr>\n",
       "    <tr>\n",
       "      <th>12775</th>\n",
       "      <td>15, Hanover House, Hanover Quay, Grand Canal D...</td>\n",
       "      <td>Dublin</td>\n",
       "      <td>2015-12-24</td>\n",
       "      <td>Second-Hand Dwelling house /Apartment</td>\n",
       "      <td>No</td>\n",
       "      <td>53.343950</td>\n",
       "      <td>-6.231401</td>\n",
       "      <td>glugger</td>\n",
       "      <td></td>\n",
       "      <td>D04</td>\n",
       "      <td>550000.00</td>\n",
       "      <td></td>\n",
       "      <td>No</td>\n",
       "    </tr>\n",
       "    <tr>\n",
       "      <th>12776</th>\n",
       "      <td>3, Hanover House, Hanover Quay, Grand Canal Do...</td>\n",
       "      <td>Dublin</td>\n",
       "      <td>2015-12-24</td>\n",
       "      <td>Second-Hand Dwelling house /Apartment</td>\n",
       "      <td>No</td>\n",
       "      <td>53.343950</td>\n",
       "      <td>-6.231401</td>\n",
       "      <td>glugger</td>\n",
       "      <td></td>\n",
       "      <td>D04</td>\n",
       "      <td>550000.00</td>\n",
       "      <td></td>\n",
       "      <td>No</td>\n",
       "    </tr>\n",
       "    <tr>\n",
       "      <th>12778</th>\n",
       "      <td>Alexander Court, Pembroke Street Upper, Dublin...</td>\n",
       "      <td>Dublin</td>\n",
       "      <td>2015-12-30</td>\n",
       "      <td>Second-Hand Dwelling house /Apartment</td>\n",
       "      <td>No</td>\n",
       "      <td>53.334872</td>\n",
       "      <td>-6.254379</td>\n",
       "      <td>glugger</td>\n",
       "      <td></td>\n",
       "      <td>D02</td>\n",
       "      <td>6275000.00</td>\n",
       "      <td></td>\n",
       "      <td>No</td>\n",
       "    </tr>\n",
       "  </tbody>\n",
       "</table>\n",
       "</div>"
      ],
      "text/plain": [
       "                                                 Address  County       Date  \\\n",
       "12770  Tall Trees, Rugged Ln, Astagob, Co. Dublin, Ir...  Dublin 2015-12-23   \n",
       "12771  The Laurels, Victoria Terrace, Dalkey Ave, Dal...  Dublin 2015-12-23   \n",
       "12775  15, Hanover House, Hanover Quay, Grand Canal D...  Dublin 2015-12-24   \n",
       "12776  3, Hanover House, Hanover Quay, Grand Canal Do...  Dublin 2015-12-24   \n",
       "12778  Alexander Court, Pembroke Street Upper, Dublin...  Dublin 2015-12-30   \n",
       "\n",
       "                                 Description FullMarketPrice        Lat  \\\n",
       "12770  Second-Hand Dwelling house /Apartment              No  53.370654   \n",
       "12771  Second-Hand Dwelling house /Apartment              No  53.273276   \n",
       "12775  Second-Hand Dwelling house /Apartment              No  53.343950   \n",
       "12776  Second-Hand Dwelling house /Apartment              No  53.343950   \n",
       "12778  Second-Hand Dwelling house /Apartment              No  53.334872   \n",
       "\n",
       "            Lon       PC PostCode Predictions       Price Size VAT  \n",
       "12770 -6.409168  glugger                  D15   654000.00       No  \n",
       "12771 -6.110044  glugger                  A96   466960.35       No  \n",
       "12775 -6.231401  glugger                  D04   550000.00       No  \n",
       "12776 -6.231401  glugger                  D04   550000.00       No  \n",
       "12778 -6.254379  glugger                  D02  6275000.00       No  "
      ]
     },
     "execution_count": 51,
     "metadata": {},
     "output_type": "execute_result"
    }
   ],
   "source": [
    "house_prices.tail()"
   ]
  },
  {
   "cell_type": "code",
   "execution_count": 52,
   "metadata": {
    "collapsed": false
   },
   "outputs": [],
   "source": [
    "# del(house_prices['PostCode'])\n",
    "def apply_final_postcodes(aRow):\n",
    "    if aRow['PC'] == 'glugger':\n",
    "        return aRow['Predictions']\n",
    "    else:\n",
    "        return aRow['PC']\n",
    "\n",
    "# house_prices['PostCode'] = house_prices.apply(lambda x: x[7] if x[8] == np.nan else x[8])\n",
    "house_prices['PostCode'] = house_prices.apply(lambda x: apply_final_postcodes(x), axis=1)"
   ]
  },
  {
   "cell_type": "code",
   "execution_count": 53,
   "metadata": {
    "collapsed": false
   },
   "outputs": [
    {
     "data": {
      "text/plain": [
       "D15    1058\n",
       "D24     752\n",
       "D13     652\n",
       "D16     629\n",
       "D12     619\n",
       "A96     569\n",
       "D04     562\n",
       "D11     544\n",
       "D07     519\n",
       "A94     519\n",
       "D06     518\n",
       "D18     487\n",
       "D03     478\n",
       "D14     474\n",
       "D09     473\n",
       "D08     450\n",
       "K78     403\n",
       "D05     332\n",
       "D22     287\n",
       "D01     286\n",
       "D10     133\n",
       "D02     119\n",
       "D20      92\n",
       "D17      52\n",
       "A98      20\n",
       "K67       1\n",
       "A86       1\n",
       "Name: PostCode, dtype: int64"
      ]
     },
     "execution_count": 53,
     "metadata": {},
     "output_type": "execute_result"
    }
   ],
   "source": [
    "house_prices.PostCode.value_counts()"
   ]
  },
  {
   "cell_type": "code",
   "execution_count": 54,
   "metadata": {
    "collapsed": false
   },
   "outputs": [],
   "source": [
    "# Tidy up the data frame a little\n",
    "del(house_prices['PC'])\n",
    "del(house_prices['Predictions'])\n"
   ]
  },
  {
   "cell_type": "markdown",
   "metadata": {
    "collapsed": false
   },
   "source": [
    "### Boxplot of the Major Post Code Prices\n",
    "Finally, we'll quickly chart the price distributions of those post-codes for which we have at least one hundred data."
   ]
  },
  {
   "cell_type": "code",
   "execution_count": 57,
   "metadata": {
    "collapsed": false
   },
   "outputs": [
    {
     "data": {
      "text/plain": [
       "<matplotlib.axes._subplots.AxesSubplot at 0x11a192e90>"
      ]
     },
     "execution_count": 57,
     "metadata": {},
     "output_type": "execute_result"
    },
    {
     "data": {
      "image/png": "[encoded data removed]",
      "text/plain": [
       "<matplotlib.figure.Figure at 0x11cc643d0>"
      ]
     },
     "metadata": {},
     "output_type": "display_data"
    }
   ],
   "source": [
    "%matplotlib inline\n",
    "post_codes = house_prices['PostCode'].value_counts()\n",
    "\n",
    "target = list(post_codes[:-5].keys())\n",
    "house_prices_cut = house_prices[house_prices['PostCode'].isin(target)]\n",
    "house_prices_cut = house_prices_cut[house_prices_cut['Price'] < 1500000]\n",
    "\n",
    "house_prices_cut.boxplot('Price', 'PostCode', rot = 45)"
   ]
  },
  {
   "cell_type": "markdown",
   "metadata": {},
   "source": [
    "Very interesting.\n",
    "\n",
    "Finally, we pickle our data for further analysis in another notebook."
   ]
  },
  {
   "cell_type": "code",
   "execution_count": 58,
   "metadata": {
    "collapsed": true
   },
   "outputs": [],
   "source": [
    "with open('Pickles/2015/house_prices_pickle', 'w') as f:\n",
    "    pickle.dump(house_prices, f)"
   ]
  },
  {
   "cell_type": "code",
   "execution_count": null,
   "metadata": {
    "collapsed": true
   },
   "outputs": [],
   "source": []
  }
 ],
 "metadata": {
  "kernelspec": {
   "display_name": "Python 2",
   "language": "python",
   "name": "python2"
  },
  "language_info": {
   "codemirror_mode": {
    "name": "ipython",
    "version": 2
   },
   "file_extension": ".py",
   "mimetype": "text/x-python",
   "name": "python",
   "nbconvert_exporter": "python",
   "pygments_lexer": "ipython2",
   "version": "2.7.11"
  }
 },
 "nbformat": 4,
 "nbformat_minor": 0
}
