{
 "cells": [
  {
   "cell_type": "markdown",
   "metadata": {},
   "source": [
    "# DUBLIN HOUSE PRICES - JUST HOW IMPORTANT IS LOCATION?\n",
    "# Part 1: Preparing the data\n",
    "Certain details on the sale of property in Ireland going back to 2010 are available for download here, on the Property Price Register website: https://www.propertypriceregister.ie/website/npsra/pprweb.nsf/page/ppr-home-en\n",
    "\n",
    "The website makes it clear that the Register is not a “Property Price Index,” as such; rather it is a record of submissions made to the Revenue Commissions for stamp duty purposes as part of the house conveyance process. Like that well-remembered man, Oliver Cromwell, the data is presented as it was filed, warts and all.\n",
    "\n",
    "Unfortunately, this laissez faire attitude towards accuracy means that the data set has to undergo no small amount of cleaning before the data can be explored for anything useful. This is what the data for this year-to-date, 2016, looks like on initial exploration:"
   ]
  },
  {
   "cell_type": "code",
   "execution_count": 1,
   "metadata": {
    "collapsed": false
   },
   "outputs": [
    {
     "data": {
      "text/html": [
       "<div>\n",
       "<table border=\"1\" class=\"dataframe\">\n",
       "  <thead>\n",
       "    <tr style=\"text-align: right;\">\n",
       "      <th></th>\n",
       "      <th>Date of Sale (dd/mm/yyyy)</th>\n",
       "      <th>Address</th>\n",
       "      <th>Postal Code</th>\n",
       "      <th>County</th>\n",
       "      <th>Price ()</th>\n",
       "      <th>Not Full Market Price</th>\n",
       "      <th>VAT Exclusive</th>\n",
       "      <th>Description of Property</th>\n",
       "      <th>Property Size Description</th>\n",
       "    </tr>\n",
       "  </thead>\n",
       "  <tbody>\n",
       "    <tr>\n",
       "      <th>0</th>\n",
       "      <td>01/01/2016</td>\n",
       "      <td>34 MOUNT PLEASANT TERRACE, RANELAGH, DUBLIN 6</td>\n",
       "      <td>Dublin 15</td>\n",
       "      <td>Dublin</td>\n",
       "      <td>170,000.00</td>\n",
       "      <td>No</td>\n",
       "      <td>No</td>\n",
       "      <td>Second-Hand Dwelling house /Apartment</td>\n",
       "      <td>NaN</td>\n",
       "    </tr>\n",
       "    <tr>\n",
       "      <th>1</th>\n",
       "      <td>04/01/2016</td>\n",
       "      <td>13 Drury Mills, Saggart</td>\n",
       "      <td>NaN</td>\n",
       "      <td>Dublin</td>\n",
       "      <td>230,088.00</td>\n",
       "      <td>No</td>\n",
       "      <td>Yes</td>\n",
       "      <td>New Dwelling house /Apartment</td>\n",
       "      <td>greater than or equal to 38 sq metres and less...</td>\n",
       "    </tr>\n",
       "    <tr>\n",
       "      <th>2</th>\n",
       "      <td>04/01/2016</td>\n",
       "      <td>19 Drury Mills, Saggart</td>\n",
       "      <td>NaN</td>\n",
       "      <td>Dublin</td>\n",
       "      <td>321,586.00</td>\n",
       "      <td>No</td>\n",
       "      <td>Yes</td>\n",
       "      <td>New Dwelling house /Apartment</td>\n",
       "      <td>greater than or equal to 38 sq metres and less...</td>\n",
       "    </tr>\n",
       "    <tr>\n",
       "      <th>3</th>\n",
       "      <td>04/01/2016</td>\n",
       "      <td>2 BRIGHTON SQ, BRIGHTON RD, FOXROCK DUBLIN 18</td>\n",
       "      <td>Dublin 18</td>\n",
       "      <td>Dublin</td>\n",
       "      <td>1,150,000.00</td>\n",
       "      <td>No</td>\n",
       "      <td>No</td>\n",
       "      <td>Second-Hand Dwelling house /Apartment</td>\n",
       "      <td>NaN</td>\n",
       "    </tr>\n",
       "    <tr>\n",
       "      <th>4</th>\n",
       "      <td>04/01/2016</td>\n",
       "      <td>2 MOYOLA MEWS, LOWER CHURCHTOWN ROAD, DUBLIN 14</td>\n",
       "      <td>NaN</td>\n",
       "      <td>Dublin</td>\n",
       "      <td>330,000.00</td>\n",
       "      <td>No</td>\n",
       "      <td>No</td>\n",
       "      <td>Second-Hand Dwelling house /Apartment</td>\n",
       "      <td>NaN</td>\n",
       "    </tr>\n",
       "  </tbody>\n",
       "</table>\n",
       "</div>"
      ],
      "text/plain": [
       "  Date of Sale (dd/mm/yyyy)                                          Address  \\\n",
       "0                01/01/2016    34 MOUNT PLEASANT TERRACE, RANELAGH, DUBLIN 6   \n",
       "1                04/01/2016                          13 Drury Mills, Saggart   \n",
       "2                04/01/2016                          19 Drury Mills, Saggart   \n",
       "3                04/01/2016    2 BRIGHTON SQ, BRIGHTON RD, FOXROCK DUBLIN 18   \n",
       "4                04/01/2016  2 MOYOLA MEWS, LOWER CHURCHTOWN ROAD, DUBLIN 14   \n",
       "\n",
       "  Postal Code  County      Price () Not Full Market Price VAT Exclusive  \\\n",
       "0   Dublin 15  Dublin    170,000.00                    No            No   \n",
       "1         NaN  Dublin    230,088.00                    No           Yes   \n",
       "2         NaN  Dublin    321,586.00                    No           Yes   \n",
       "3   Dublin 18  Dublin  1,150,000.00                    No            No   \n",
       "4         NaN  Dublin    330,000.00                    No            No   \n",
       "\n",
       "                 Description of Property  \\\n",
       "0  Second-Hand Dwelling house /Apartment   \n",
       "1          New Dwelling house /Apartment   \n",
       "2          New Dwelling house /Apartment   \n",
       "3  Second-Hand Dwelling house /Apartment   \n",
       "4  Second-Hand Dwelling house /Apartment   \n",
       "\n",
       "                           Property Size Description  \n",
       "0                                                NaN  \n",
       "1  greater than or equal to 38 sq metres and less...  \n",
       "2  greater than or equal to 38 sq metres and less...  \n",
       "3                                                NaN  \n",
       "4                                                NaN  "
      ]
     },
     "execution_count": 1,
     "metadata": {},
     "output_type": "execute_result"
    }
   ],
   "source": [
    "import pandas as pd\n",
    "houses = pd.read_csv('PPR/PPR-2016-Dublin.csv', encoding = 'latin-1')\n",
    "houses.head()"
   ]
  },
  {
   "cell_type": "code",
   "execution_count": 2,
   "metadata": {
    "collapsed": false
   },
   "outputs": [
    {
     "data": {
      "text/plain": [
       "Date of Sale (dd/mm/yyyy)    object\n",
       "Address                      object\n",
       "Postal Code                  object\n",
       "County                       object\n",
       "Price ()                    object\n",
       "Not Full Market Price        object\n",
       "VAT Exclusive                object\n",
       "Description of Property      object\n",
       "Property Size Description    object\n",
       "dtype: object"
      ]
     },
     "execution_count": 2,
     "metadata": {},
     "output_type": "execute_result"
    }
   ],
   "source": [
    "houses.dtypes"
   ]
  },
  {
   "cell_type": "code",
   "execution_count": 3,
   "metadata": {
    "collapsed": false
   },
   "outputs": [
    {
     "data": {
      "text/html": [
       "<div>\n",
       "<table border=\"1\" class=\"dataframe\">\n",
       "  <thead>\n",
       "    <tr style=\"text-align: right;\">\n",
       "      <th></th>\n",
       "      <th>Date of Sale (dd/mm/yyyy)</th>\n",
       "      <th>Address</th>\n",
       "      <th>Postal Code</th>\n",
       "      <th>County</th>\n",
       "      <th>Price ()</th>\n",
       "      <th>Not Full Market Price</th>\n",
       "      <th>VAT Exclusive</th>\n",
       "      <th>Description of Property</th>\n",
       "      <th>Property Size Description</th>\n",
       "    </tr>\n",
       "  </thead>\n",
       "  <tbody>\n",
       "    <tr>\n",
       "      <th>count</th>\n",
       "      <td>12397</td>\n",
       "      <td>12397</td>\n",
       "      <td>8245</td>\n",
       "      <td>12397</td>\n",
       "      <td>12397</td>\n",
       "      <td>12397</td>\n",
       "      <td>12397</td>\n",
       "      <td>12397</td>\n",
       "      <td>1818</td>\n",
       "    </tr>\n",
       "    <tr>\n",
       "      <th>unique</th>\n",
       "      <td>265</td>\n",
       "      <td>12329</td>\n",
       "      <td>23</td>\n",
       "      <td>1</td>\n",
       "      <td>2386</td>\n",
       "      <td>2</td>\n",
       "      <td>2</td>\n",
       "      <td>3</td>\n",
       "      <td>4</td>\n",
       "    </tr>\n",
       "    <tr>\n",
       "      <th>top</th>\n",
       "      <td>17/02/2016</td>\n",
       "      <td>KILN HOUSE, KILSALLAGHAN, DUBLIN</td>\n",
       "      <td>Dublin 15</td>\n",
       "      <td>Dublin</td>\n",
       "      <td>250,000.00</td>\n",
       "      <td>No</td>\n",
       "      <td>No</td>\n",
       "      <td>Second-Hand Dwelling house /Apartment</td>\n",
       "      <td>greater than or equal to 38 sq metres and less...</td>\n",
       "    </tr>\n",
       "    <tr>\n",
       "      <th>freq</th>\n",
       "      <td>243</td>\n",
       "      <td>3</td>\n",
       "      <td>1048</td>\n",
       "      <td>12397</td>\n",
       "      <td>140</td>\n",
       "      <td>12022</td>\n",
       "      <td>10593</td>\n",
       "      <td>10578</td>\n",
       "      <td>1349</td>\n",
       "    </tr>\n",
       "  </tbody>\n",
       "</table>\n",
       "</div>"
      ],
      "text/plain": [
       "       Date of Sale (dd/mm/yyyy)                           Address  \\\n",
       "count                      12397                             12397   \n",
       "unique                       265                             12329   \n",
       "top                   17/02/2016  KILN HOUSE, KILSALLAGHAN, DUBLIN   \n",
       "freq                         243                                 3   \n",
       "\n",
       "       Postal Code  County    Price () Not Full Market Price VAT Exclusive  \\\n",
       "count         8245   12397        12397                 12397         12397   \n",
       "unique          23       1         2386                     2             2   \n",
       "top      Dublin 15  Dublin  250,000.00                    No            No   \n",
       "freq          1048   12397          140                 12022         10593   \n",
       "\n",
       "                      Description of Property  \\\n",
       "count                                   12397   \n",
       "unique                                      3   \n",
       "top     Second-Hand Dwelling house /Apartment   \n",
       "freq                                    10578   \n",
       "\n",
       "                                Property Size Description  \n",
       "count                                                1818  \n",
       "unique                                                  4  \n",
       "top     greater than or equal to 38 sq metres and less...  \n",
       "freq                                                 1349  "
      ]
     },
     "execution_count": 3,
     "metadata": {},
     "output_type": "execute_result"
    }
   ],
   "source": [
    "houses.describe()"
   ]
  },
  {
   "cell_type": "markdown",
   "metadata": {},
   "source": [
    "And here we see some immediate problems. \n",
    "\n",
    "1. The categorizations are not ideal for the home-buyer - there are only 1,600 extant descriptions of the property size from a dataset of 11,186.\n",
    "2. The address-filing is sloppy - some addresses are all caps, there are misspellings, and there is inconsistency with regard to what's included in an address.\n",
    "3. There is no usage of the new post codes, which are bedding in more quickly than people thought they might.\n",
    "4. The use of existing post codes is patchy at best - there are 7,472 addresses extant in the dataset, which means that 3,714, one third, are missing.\n",
    "\n",
    "Our aim is to prepare the data in such a way as it can be broken down by post code. Can this be done reliably with so much post code data missing?"
   ]
  },
  {
   "cell_type": "markdown",
   "metadata": {},
   "source": [
    "### The Google Maps API\n",
    "The answer, as is often the case, is provided by Google. The Google Maps API returns a .json object that lists addresses under various different categories – this is what you get for Dáil Éireann: "
   ]
  },
  {
   "cell_type": "code",
   "execution_count": 4,
   "metadata": {
    "collapsed": false
   },
   "outputs": [
    {
     "name": "stdout",
     "output_type": "stream",
     "text": [
      "{u'address_components': [{u'long_name': u'2',\n",
      "                          u'short_name': u'2',\n",
      "                          u'types': [u'street_number']},\n",
      "                         {u'long_name': u'Kildare Street',\n",
      "                          u'short_name': u'Kildare St',\n",
      "                          u'types': [u'route']},\n",
      "                         {u'long_name': u'Dublin',\n",
      "                          u'short_name': u'Dublin',\n",
      "                          u'types': [u'locality', u'political']},\n",
      "                         {u'long_name': u'Dublin City',\n",
      "                          u'short_name': u'Dublin City',\n",
      "                          u'types': [u'administrative_area_level_2',\n",
      "                                     u'political']},\n",
      "                         {u'long_name': u'County Dublin',\n",
      "                          u'short_name': u'County Dublin',\n",
      "                          u'types': [u'administrative_area_level_1',\n",
      "                                     u'political']},\n",
      "                         {u'long_name': u'Ireland',\n",
      "                          u'short_name': u'IE',\n",
      "                          u'types': [u'country', u'political']}],\n",
      " u'formatted_address': u'2 Kildare St, Dublin, Ireland',\n",
      " u'geometry': {u'bounds': {u'northeast': {u'lat': 53.3415255,\n",
      "                                          u'lng': -6.2548933},\n",
      "                           u'southwest': {u'lat': 53.3415219,\n",
      "                                          u'lng': -6.254911099999999}},\n",
      "               u'location': {u'lat': 53.3415219, u'lng': -6.2548933},\n",
      "               u'location_type': u'RANGE_INTERPOLATED',\n",
      "               u'viewport': {u'northeast': {u'lat': 53.3428726802915,\n",
      "                                            u'lng': -6.253553219708498},\n",
      "                             u'southwest': {u'lat': 53.3401747197085,\n",
      "                                            u'lng': -6.256251180291502}}},\n",
      " u'partial_match': True,\n",
      " u'place_id': u'Eh0yIEtpbGRhcmUgU3QsIER1YmxpbiwgSXJlbGFuZA',\n",
      " u'types': [u'street_address']}\n"
     ]
    }
   ],
   "source": [
    "from pprint import pprint\n",
    "import json\n",
    "\n",
    "with open('dailEireann.json', 'r') as f:\n",
    "    dail = json.load(f)\n",
    "    \n",
    "pprint(dail)"
   ]
  },
  {
   "cell_type": "markdown",
   "metadata": {},
   "source": [
    "### Using Google Maps to Add Detail\n",
    "So the plan is to use the Google API find four things:\n",
    "1. A uniformly-formatted address, where possible.\n",
    "2. A modern post code, where possible.\n",
    "3. An address's latitude, where possible.\n",
    "4. An address's longitude, where possible.\n",
    "\n",
    "I wrote a program called `coordinateCollector`, part of this repository, to source our base data. These are the chief features of `coordinateCollector`."
   ]
  },
  {
   "cell_type": "markdown",
   "metadata": {},
   "source": [
    "**Firstly**, we import the `googlemaps` package and create a `googlemaps.Client` object.\n",
    "\n",
    "```python\n",
    "import googlemaps\n",
    "\n",
    "with open(\"/Users/anthonymunnelly/Documents/TECH/Google API/api.json\", 'r') as f:\n",
    "    myKey = json.load(f)\n",
    "\n",
    "gmaps = googlemaps.Client(key=myKey['mapper'])\n",
    "```"
   ]
  },
  {
   "cell_type": "markdown",
   "metadata": {},
   "source": [
    "**Next**, we write two small helper functions; `coordinate_finder()`, to tell us whether or not we've got a good result, and `address_components_searcher()`, to catch the full post code or other address-level detail of an address if we can find it:\n",
    "\n",
    "```python\n",
    "def coordinate_finder(anAddress):\n",
    "    result = gmaps.geocode(anAddress)\n",
    "    if len(result) > 0:\n",
    "        return result[0]\n",
    "    else:\n",
    "        return -1\n",
    "        \n",
    "def address_components_searcher(component_list, sought_item):\n",
    "    returnValue = ''\n",
    "    for c in component_list:\n",
    "        if sought_item in c['types']:\n",
    "            returnValue = c['short_name']\n",
    "    \n",
    "    return returnValue\n",
    "```"
   ]
  },
  {
   "cell_type": "markdown",
   "metadata": {},
   "source": [
    "**Finally**, there is the major `get_geodata()` function that queries the the API for each row of data in our original `PPR-2016-Dublin.csv` file:\n",
    "\n",
    "```python\n",
    "def get_geodata(address_list):\n",
    "    houses_list = []\n",
    "    bad_addresses_list = []\n",
    "    geodata_list = []\n",
    "    \n",
    "    for item in address_list:\n",
    "        try:\n",
    "            geocode = coordinate_finder(item[1])\n",
    "            if geocode == -1:\n",
    "                bad_addresses_list.append(item)\n",
    "                continue\n",
    "            else:\n",
    "                address = geocode['formatted_address']\n",
    "                latitude = geocode['geometry']['location']['lat']\n",
    "                longitude = geocode['geometry']['location']['lng']\n",
    "                postcode = address_components_searcher(geocode['address_components'], 'postal_code')\n",
    "                \n",
    "                clean_line = [item[0],\n",
    "                              address,\n",
    "                              postcode,\n",
    "                              item[3],\n",
    "                                item[4],\n",
    "                                item[5],\n",
    "                                item[6],\n",
    "                                item[7],\n",
    "                                item[8],\n",
    "                                latitude,\n",
    "                                longitude]\n",
    "                \n",
    "                houses_list.append(clean_line)\n",
    "                geodata_list.append(geocode)\n",
    "            if (address_list.index(item)+1) % 250 == 0:\n",
    "                print \"\\tItem #{} just processed.\".format(address_list.index(item)+1)\n",
    "        except:\n",
    "            bad_addresses_list.append(item)\n",
    "            continue\n",
    "        \n",
    "    return (houses_list, bad_addresses_list, geodata_list)\n",
    "```"
   ]
  },
  {
   "cell_type": "markdown",
   "metadata": {},
   "source": [
    "### Cleaning Up the New Data\n",
    "We have two pickled data frames on the hard drive thanks to our `coordinateCollector` program. Let's take a look at them."
   ]
  },
  {
   "cell_type": "code",
   "execution_count": 5,
   "metadata": {
    "collapsed": false
   },
   "outputs": [],
   "source": [
    "import pickle\n",
    "\n",
    "with open('pickle/2016/houses_2016_pickle', 'r') as f:\n",
    "    good_addresses = pickle.load(f)\n",
    "    \n",
    "with open('pickle/2016/bad_add_2016_pickle', 'r') as f:\n",
    "    bad_addresses = pickle.load(f)"
   ]
  },
  {
   "cell_type": "code",
   "execution_count": 6,
   "metadata": {
    "collapsed": false
   },
   "outputs": [
    {
     "data": {
      "text/html": [
       "<div>\n",
       "<table border=\"1\" class=\"dataframe\">\n",
       "  <thead>\n",
       "    <tr style=\"text-align: right;\">\n",
       "      <th></th>\n",
       "      <th>Date</th>\n",
       "      <th>Address</th>\n",
       "      <th>PostCode</th>\n",
       "      <th>County</th>\n",
       "      <th>Price</th>\n",
       "      <th>FullMarketPrice</th>\n",
       "      <th>VAT</th>\n",
       "      <th>Description</th>\n",
       "      <th>Size</th>\n",
       "      <th>Lat</th>\n",
       "      <th>Lon</th>\n",
       "      <th>gCheck</th>\n",
       "    </tr>\n",
       "  </thead>\n",
       "  <tbody>\n",
       "    <tr>\n",
       "      <th>0</th>\n",
       "      <td>01/01/2016</td>\n",
       "      <td>34 Mountpleasant Terrace, Dublin 6, D06 YC58, ...</td>\n",
       "      <td>D06 YC58</td>\n",
       "      <td>Dublin</td>\n",
       "      <td>170,000.00</td>\n",
       "      <td>No</td>\n",
       "      <td>No</td>\n",
       "      <td>Second-Hand Dwelling house /Apartment</td>\n",
       "      <td></td>\n",
       "      <td>53.328587</td>\n",
       "      <td>-6.261495</td>\n",
       "      <td>Good</td>\n",
       "    </tr>\n",
       "    <tr>\n",
       "      <th>1</th>\n",
       "      <td>04/01/2016</td>\n",
       "      <td>Saggart, Co. Dublin, Ireland</td>\n",
       "      <td></td>\n",
       "      <td>Dublin</td>\n",
       "      <td>230,088.00</td>\n",
       "      <td>No</td>\n",
       "      <td>Yes</td>\n",
       "      <td>New Dwelling house /Apartment</td>\n",
       "      <td>greater than or equal to 38 sq metres and less...</td>\n",
       "      <td>53.280840</td>\n",
       "      <td>-6.443184</td>\n",
       "      <td>Good</td>\n",
       "    </tr>\n",
       "    <tr>\n",
       "      <th>2</th>\n",
       "      <td>04/01/2016</td>\n",
       "      <td>Saggart, Co. Dublin, Ireland</td>\n",
       "      <td></td>\n",
       "      <td>Dublin</td>\n",
       "      <td>321,586.00</td>\n",
       "      <td>No</td>\n",
       "      <td>Yes</td>\n",
       "      <td>New Dwelling house /Apartment</td>\n",
       "      <td>greater than or equal to 38 sq metres and less...</td>\n",
       "      <td>53.280840</td>\n",
       "      <td>-6.443184</td>\n",
       "      <td>Good</td>\n",
       "    </tr>\n",
       "    <tr>\n",
       "      <th>3</th>\n",
       "      <td>04/01/2016</td>\n",
       "      <td>2 Brighton Rd, Brighton Hall, Kerrymount, Dubl...</td>\n",
       "      <td>D18 A0C6</td>\n",
       "      <td>Dublin</td>\n",
       "      <td>1,150,000.00</td>\n",
       "      <td>No</td>\n",
       "      <td>No</td>\n",
       "      <td>Second-Hand Dwelling house /Apartment</td>\n",
       "      <td></td>\n",
       "      <td>53.258165</td>\n",
       "      <td>-6.174641</td>\n",
       "      <td>Good</td>\n",
       "    </tr>\n",
       "    <tr>\n",
       "      <th>4</th>\n",
       "      <td>04/01/2016</td>\n",
       "      <td>Moyola Mews, Churchtown Rd Lower, Churchtown L...</td>\n",
       "      <td></td>\n",
       "      <td>Dublin</td>\n",
       "      <td>330,000.00</td>\n",
       "      <td>No</td>\n",
       "      <td>No</td>\n",
       "      <td>Second-Hand Dwelling house /Apartment</td>\n",
       "      <td></td>\n",
       "      <td>53.298311</td>\n",
       "      <td>-6.253560</td>\n",
       "      <td>Good</td>\n",
       "    </tr>\n",
       "  </tbody>\n",
       "</table>\n",
       "</div>"
      ],
      "text/plain": [
       "         Date                                            Address  PostCode  \\\n",
       "0  01/01/2016  34 Mountpleasant Terrace, Dublin 6, D06 YC58, ...  D06 YC58   \n",
       "1  04/01/2016                       Saggart, Co. Dublin, Ireland             \n",
       "2  04/01/2016                       Saggart, Co. Dublin, Ireland             \n",
       "3  04/01/2016  2 Brighton Rd, Brighton Hall, Kerrymount, Dubl...  D18 A0C6   \n",
       "4  04/01/2016  Moyola Mews, Churchtown Rd Lower, Churchtown L...             \n",
       "\n",
       "   County          Price FullMarketPrice  VAT  \\\n",
       "0  Dublin    170,000.00              No   No   \n",
       "1  Dublin    230,088.00              No  Yes   \n",
       "2  Dublin    321,586.00              No  Yes   \n",
       "3  Dublin  1,150,000.00              No   No   \n",
       "4  Dublin    330,000.00              No   No   \n",
       "\n",
       "                             Description  \\\n",
       "0  Second-Hand Dwelling house /Apartment   \n",
       "1          New Dwelling house /Apartment   \n",
       "2          New Dwelling house /Apartment   \n",
       "3  Second-Hand Dwelling house /Apartment   \n",
       "4  Second-Hand Dwelling house /Apartment   \n",
       "\n",
       "                                                Size        Lat       Lon  \\\n",
       "0                                                     53.328587 -6.261495   \n",
       "1  greater than or equal to 38 sq metres and less...  53.280840 -6.443184   \n",
       "2  greater than or equal to 38 sq metres and less...  53.280840 -6.443184   \n",
       "3                                                     53.258165 -6.174641   \n",
       "4                                                     53.298311 -6.253560   \n",
       "\n",
       "  gCheck  \n",
       "0   Good  \n",
       "1   Good  \n",
       "2   Good  \n",
       "3   Good  \n",
       "4   Good  "
      ]
     },
     "execution_count": 6,
     "metadata": {},
     "output_type": "execute_result"
    }
   ],
   "source": [
    "good_addresses.head()"
   ]
  },
  {
   "cell_type": "code",
   "execution_count": 7,
   "metadata": {
    "collapsed": false
   },
   "outputs": [
    {
     "data": {
      "text/html": [
       "<div>\n",
       "<table border=\"1\" class=\"dataframe\">\n",
       "  <thead>\n",
       "    <tr style=\"text-align: right;\">\n",
       "      <th></th>\n",
       "      <th>Date</th>\n",
       "      <th>Address</th>\n",
       "      <th>PostCode</th>\n",
       "      <th>County</th>\n",
       "      <th>Price</th>\n",
       "      <th>FullMarketPrice</th>\n",
       "      <th>VAT</th>\n",
       "      <th>Description</th>\n",
       "      <th>Size</th>\n",
       "      <th>gCheck</th>\n",
       "    </tr>\n",
       "  </thead>\n",
       "  <tbody>\n",
       "    <tr>\n",
       "      <th>0</th>\n",
       "      <td>Date of Sale (dd/mm/yyyy)</td>\n",
       "      <td>Address</td>\n",
       "      <td>Postal Code</td>\n",
       "      <td>County</td>\n",
       "      <td>Price ()</td>\n",
       "      <td>Not Full Market Price</td>\n",
       "      <td>VAT Exclusive</td>\n",
       "      <td>Description of Property</td>\n",
       "      <td>Property Size Description</td>\n",
       "      <td>NoResponse</td>\n",
       "    </tr>\n",
       "    <tr>\n",
       "      <th>1</th>\n",
       "      <td>04/01/2016</td>\n",
       "      <td>307 HAMPTON LODGE, BLOCK B, GRACE PARK RD</td>\n",
       "      <td>Dublin 9</td>\n",
       "      <td>Dublin</td>\n",
       "      <td>315,000.00</td>\n",
       "      <td>No</td>\n",
       "      <td>No</td>\n",
       "      <td>Second-Hand Dwelling house /Apartment</td>\n",
       "      <td></td>\n",
       "      <td>BadLat</td>\n",
       "    </tr>\n",
       "    <tr>\n",
       "      <th>2</th>\n",
       "      <td>05/01/2016</td>\n",
       "      <td>2 TAYLEURS POINT, RUSH, DUBLIN</td>\n",
       "      <td></td>\n",
       "      <td>Dublin</td>\n",
       "      <td>414,000.00</td>\n",
       "      <td>No</td>\n",
       "      <td>No</td>\n",
       "      <td>Second-Hand Dwelling house /Apartment</td>\n",
       "      <td></td>\n",
       "      <td>BadLat</td>\n",
       "    </tr>\n",
       "    <tr>\n",
       "      <th>3</th>\n",
       "      <td>05/01/2016</td>\n",
       "      <td>21 AMBER, THE GRANGE, STILLORGAN</td>\n",
       "      <td></td>\n",
       "      <td>Dublin</td>\n",
       "      <td>280,000.00</td>\n",
       "      <td>No</td>\n",
       "      <td>No</td>\n",
       "      <td>Second-Hand Dwelling house /Apartment</td>\n",
       "      <td></td>\n",
       "      <td>NoResponse</td>\n",
       "    </tr>\n",
       "    <tr>\n",
       "      <th>4</th>\n",
       "      <td>05/01/2016</td>\n",
       "      <td>29 GREENVIEW, SEABROOK MANOR, STATION RD</td>\n",
       "      <td>Dublin 13</td>\n",
       "      <td>Dublin</td>\n",
       "      <td>94,042.00</td>\n",
       "      <td>No</td>\n",
       "      <td>No</td>\n",
       "      <td>Second-Hand Dwelling house /Apartment</td>\n",
       "      <td></td>\n",
       "      <td>NoResponse</td>\n",
       "    </tr>\n",
       "  </tbody>\n",
       "</table>\n",
       "</div>"
      ],
      "text/plain": [
       "                        Date                                    Address  \\\n",
       "0  Date of Sale (dd/mm/yyyy)                                    Address   \n",
       "1                 04/01/2016  307 HAMPTON LODGE, BLOCK B, GRACE PARK RD   \n",
       "2                 05/01/2016             2 TAYLEURS POINT, RUSH, DUBLIN   \n",
       "3                 05/01/2016           21 AMBER, THE GRANGE, STILLORGAN   \n",
       "4                 05/01/2016   29 GREENVIEW, SEABROOK MANOR, STATION RD   \n",
       "\n",
       "      PostCode  County        Price        FullMarketPrice            VAT  \\\n",
       "0  Postal Code  County    Price ()  Not Full Market Price  VAT Exclusive   \n",
       "1     Dublin 9  Dublin  315,000.00                     No             No   \n",
       "2               Dublin  414,000.00                     No             No   \n",
       "3               Dublin  280,000.00                     No             No   \n",
       "4    Dublin 13  Dublin   94,042.00                     No             No   \n",
       "\n",
       "                             Description                       Size  \\\n",
       "0                Description of Property  Property Size Description   \n",
       "1  Second-Hand Dwelling house /Apartment                              \n",
       "2  Second-Hand Dwelling house /Apartment                              \n",
       "3  Second-Hand Dwelling house /Apartment                              \n",
       "4  Second-Hand Dwelling house /Apartment                              \n",
       "\n",
       "       gCheck  \n",
       "0  NoResponse  \n",
       "1      BadLat  \n",
       "2      BadLat  \n",
       "3  NoResponse  \n",
       "4  NoResponse  "
      ]
     },
     "execution_count": 7,
     "metadata": {},
     "output_type": "execute_result"
    }
   ],
   "source": [
    "bad_addresses.head()"
   ]
  },
  {
   "cell_type": "code",
   "execution_count": 8,
   "metadata": {
    "collapsed": false
   },
   "outputs": [
    {
     "data": {
      "text/html": [
       "<div>\n",
       "<table border=\"1\" class=\"dataframe\">\n",
       "  <thead>\n",
       "    <tr style=\"text-align: right;\">\n",
       "      <th></th>\n",
       "      <th>Date</th>\n",
       "      <th>Address</th>\n",
       "      <th>PostCode</th>\n",
       "      <th>County</th>\n",
       "      <th>Price</th>\n",
       "      <th>FullMarketPrice</th>\n",
       "      <th>VAT</th>\n",
       "      <th>Description</th>\n",
       "      <th>Size</th>\n",
       "      <th>gCheck</th>\n",
       "    </tr>\n",
       "  </thead>\n",
       "  <tbody>\n",
       "    <tr>\n",
       "      <th>1</th>\n",
       "      <td>04/01/2016</td>\n",
       "      <td>307 HAMPTON LODGE, BLOCK B, GRACE PARK RD</td>\n",
       "      <td>Dublin 9</td>\n",
       "      <td>Dublin</td>\n",
       "      <td>315,000.00</td>\n",
       "      <td>No</td>\n",
       "      <td>No</td>\n",
       "      <td>Second-Hand Dwelling house /Apartment</td>\n",
       "      <td></td>\n",
       "      <td>BadLat</td>\n",
       "    </tr>\n",
       "    <tr>\n",
       "      <th>2</th>\n",
       "      <td>05/01/2016</td>\n",
       "      <td>2 TAYLEURS POINT, RUSH, DUBLIN</td>\n",
       "      <td></td>\n",
       "      <td>Dublin</td>\n",
       "      <td>414,000.00</td>\n",
       "      <td>No</td>\n",
       "      <td>No</td>\n",
       "      <td>Second-Hand Dwelling house /Apartment</td>\n",
       "      <td></td>\n",
       "      <td>BadLat</td>\n",
       "    </tr>\n",
       "    <tr>\n",
       "      <th>3</th>\n",
       "      <td>05/01/2016</td>\n",
       "      <td>21 AMBER, THE GRANGE, STILLORGAN</td>\n",
       "      <td></td>\n",
       "      <td>Dublin</td>\n",
       "      <td>280,000.00</td>\n",
       "      <td>No</td>\n",
       "      <td>No</td>\n",
       "      <td>Second-Hand Dwelling house /Apartment</td>\n",
       "      <td></td>\n",
       "      <td>NoResponse</td>\n",
       "    </tr>\n",
       "    <tr>\n",
       "      <th>4</th>\n",
       "      <td>05/01/2016</td>\n",
       "      <td>29 GREENVIEW, SEABROOK MANOR, STATION RD</td>\n",
       "      <td>Dublin 13</td>\n",
       "      <td>Dublin</td>\n",
       "      <td>94,042.00</td>\n",
       "      <td>No</td>\n",
       "      <td>No</td>\n",
       "      <td>Second-Hand Dwelling house /Apartment</td>\n",
       "      <td></td>\n",
       "      <td>NoResponse</td>\n",
       "    </tr>\n",
       "    <tr>\n",
       "      <th>5</th>\n",
       "      <td>05/01/2016</td>\n",
       "      <td>5 WILLOW GROVE, GREENPARK, CLONDALKIN DUBLIN 22</td>\n",
       "      <td>Dublin 22</td>\n",
       "      <td>Dublin</td>\n",
       "      <td>265,000.00</td>\n",
       "      <td>No</td>\n",
       "      <td>No</td>\n",
       "      <td>Second-Hand Dwelling house /Apartment</td>\n",
       "      <td></td>\n",
       "      <td>NoResponse</td>\n",
       "    </tr>\n",
       "  </tbody>\n",
       "</table>\n",
       "</div>"
      ],
      "text/plain": [
       "         Date                                          Address   PostCode  \\\n",
       "1  04/01/2016        307 HAMPTON LODGE, BLOCK B, GRACE PARK RD   Dublin 9   \n",
       "2  05/01/2016                   2 TAYLEURS POINT, RUSH, DUBLIN              \n",
       "3  05/01/2016                 21 AMBER, THE GRANGE, STILLORGAN              \n",
       "4  05/01/2016         29 GREENVIEW, SEABROOK MANOR, STATION RD  Dublin 13   \n",
       "5  05/01/2016  5 WILLOW GROVE, GREENPARK, CLONDALKIN DUBLIN 22  Dublin 22   \n",
       "\n",
       "   County        Price FullMarketPrice VAT  \\\n",
       "1  Dublin  315,000.00              No  No   \n",
       "2  Dublin  414,000.00              No  No   \n",
       "3  Dublin  280,000.00              No  No   \n",
       "4  Dublin   94,042.00              No  No   \n",
       "5  Dublin  265,000.00              No  No   \n",
       "\n",
       "                             Description Size      gCheck  \n",
       "1  Second-Hand Dwelling house /Apartment           BadLat  \n",
       "2  Second-Hand Dwelling house /Apartment           BadLat  \n",
       "3  Second-Hand Dwelling house /Apartment       NoResponse  \n",
       "4  Second-Hand Dwelling house /Apartment       NoResponse  \n",
       "5  Second-Hand Dwelling house /Apartment       NoResponse  "
      ]
     },
     "execution_count": 8,
     "metadata": {},
     "output_type": "execute_result"
    }
   ],
   "source": [
    "bad_addresses.drop(0, inplace=True) # Eliminate the repeated header row.\n",
    "bad_addresses.head()"
   ]
  },
  {
   "cell_type": "code",
   "execution_count": 10,
   "metadata": {
    "collapsed": false
   },
   "outputs": [
    {
     "name": "stdout",
     "output_type": "stream",
     "text": [
      "Good_addresses has a shape of (9042, 12).\n",
      "Bad_addresses has a shape of (3355, 10).\n"
     ]
    }
   ],
   "source": [
    "print \"Good_addresses has a shape of {}.\\nBad_addresses has a shape of {}.\".format(good_addresses.shape, bad_addresses.shape)"
   ]
  },
  {
   "cell_type": "markdown",
   "metadata": {},
   "source": [
    "#### Bad v Good Addresses\n",
    "The difference between bad and good addresss is the presence of coordinates in good addresses, and the absence of coordinates in the bad data. Otherwise, the data is quite the same. Therefore, although the `coordinateCollector` program divides the two data sets, it makes sense for us to unite them here into a single data frame, `houses`."
   ]
  },
  {
   "cell_type": "code",
   "execution_count": 11,
   "metadata": {
    "collapsed": false
   },
   "outputs": [],
   "source": [
    "import numpy as np\n",
    "bad_addresses['Lat'] = np.nan\n",
    "bad_addresses['Lon'] = np.nan"
   ]
  },
  {
   "cell_type": "code",
   "execution_count": 12,
   "metadata": {
    "collapsed": false
   },
   "outputs": [
    {
     "data": {
      "text/html": [
       "<div>\n",
       "<table border=\"1\" class=\"dataframe\">\n",
       "  <thead>\n",
       "    <tr style=\"text-align: right;\">\n",
       "      <th></th>\n",
       "      <th>Lat</th>\n",
       "      <th>Lon</th>\n",
       "    </tr>\n",
       "  </thead>\n",
       "  <tbody>\n",
       "    <tr>\n",
       "      <th>count</th>\n",
       "      <td>9042.000000</td>\n",
       "      <td>9042.000000</td>\n",
       "    </tr>\n",
       "    <tr>\n",
       "      <th>mean</th>\n",
       "      <td>53.333022</td>\n",
       "      <td>-6.272596</td>\n",
       "    </tr>\n",
       "    <tr>\n",
       "      <th>std</th>\n",
       "      <td>0.045040</td>\n",
       "      <td>0.088609</td>\n",
       "    </tr>\n",
       "    <tr>\n",
       "      <th>min</th>\n",
       "      <td>53.188938</td>\n",
       "      <td>-6.501789</td>\n",
       "    </tr>\n",
       "    <tr>\n",
       "      <th>25%</th>\n",
       "      <td>53.292321</td>\n",
       "      <td>-6.326441</td>\n",
       "    </tr>\n",
       "    <tr>\n",
       "      <th>50%</th>\n",
       "      <td>53.335556</td>\n",
       "      <td>-6.265963</td>\n",
       "    </tr>\n",
       "    <tr>\n",
       "      <th>75%</th>\n",
       "      <td>53.372214</td>\n",
       "      <td>-6.214333</td>\n",
       "    </tr>\n",
       "    <tr>\n",
       "      <th>max</th>\n",
       "      <td>53.425988</td>\n",
       "      <td>-6.052932</td>\n",
       "    </tr>\n",
       "  </tbody>\n",
       "</table>\n",
       "</div>"
      ],
      "text/plain": [
       "               Lat          Lon\n",
       "count  9042.000000  9042.000000\n",
       "mean     53.333022    -6.272596\n",
       "std       0.045040     0.088609\n",
       "min      53.188938    -6.501789\n",
       "25%      53.292321    -6.326441\n",
       "50%      53.335556    -6.265963\n",
       "75%      53.372214    -6.214333\n",
       "max      53.425988    -6.052932"
      ]
     },
     "execution_count": 12,
     "metadata": {},
     "output_type": "execute_result"
    }
   ],
   "source": [
    "houses = pd.concat([good_addresses, bad_addresses], ignore_index=True)\n",
    "houses.describe()"
   ]
  },
  {
   "cell_type": "code",
   "execution_count": 13,
   "metadata": {
    "collapsed": false
   },
   "outputs": [
    {
     "data": {
      "text/plain": [
       "Address             object\n",
       "County              object\n",
       "Date                object\n",
       "Description         object\n",
       "FullMarketPrice     object\n",
       "Lat                float64\n",
       "Lon                float64\n",
       "PostCode            object\n",
       "Price               object\n",
       "Size                object\n",
       "VAT                 object\n",
       "gCheck              object\n",
       "dtype: object"
      ]
     },
     "execution_count": 13,
     "metadata": {},
     "output_type": "execute_result"
    }
   ],
   "source": [
    "houses.dtypes"
   ]
  },
  {
   "cell_type": "markdown",
   "metadata": {},
   "source": [
    "#### Tidying Some Formats\n",
    "We need to convert the date and price columns to datetime and float data types, respectively. The date conversion is straight-forward. The price less so, probably due to the _latin-1_ encoding - casting `astype(float)` doesn't work. But it still can be done, of course, even if we have to go the long way around."
   ]
  },
  {
   "cell_type": "code",
   "execution_count": 14,
   "metadata": {
    "collapsed": false
   },
   "outputs": [
    {
     "data": {
      "text/plain": [
       "Address                    object\n",
       "County                     object\n",
       "Date               datetime64[ns]\n",
       "Description                object\n",
       "FullMarketPrice            object\n",
       "Lat                       float64\n",
       "Lon                       float64\n",
       "PostCode                   object\n",
       "Size                       object\n",
       "VAT                        object\n",
       "gCheck                     object\n",
       "Price                     float64\n",
       "dtype: object"
      ]
     },
     "execution_count": 14,
     "metadata": {},
     "output_type": "execute_result"
    }
   ],
   "source": [
    "houses['Date'] = pd.to_datetime(houses['Date'], dayfirst = True)\n",
    "\n",
    "def price_destringer(someString):\n",
    "    someOtherString = ''\n",
    "    for s in someString:\n",
    "        if s.isdigit() or s == '.':\n",
    "            someOtherString = someOtherString + s\n",
    "        else:\n",
    "            pass\n",
    "        \n",
    "    return float(someOtherString)\n",
    "\n",
    "houses['aPrice'] = houses['Price'].apply(price_destringer)\n",
    "del(houses['Price'])\n",
    "houses.rename(columns = {'aPrice':'Price'}, inplace = True)\n",
    "houses.dtypes"
   ]
  },
  {
   "cell_type": "markdown",
   "metadata": {},
   "source": [
    "### The Postcodes\n",
    "The _PostCode_ column contains a mix of data formats - the modern XXX XXXX format; the traditional Dublin 4-style format, and blanks. We're going to use a function, `tidy_postcodes()`, to create a second postcode column, PC, that will;\n",
    "1. Return the first three characters of the new post code format if the extant post code is that format;\n",
    "2. Return the first three characters of the new post code format if the extant post code is of the old-style Dublin post-code format, using the easy-to_create `short_postcode_dictionary`; and\n",
    "3. Return glugger, from the Irish _ubh ghliogair_, a rotten egg, if the post code is neither of the above.\n",
    "\n",
    "The first three characters of the new post codes are called the **Eircode Routing Keys** - I am indebted to Green Party Councillor for Dún Laoghaire, Ossian Smyth, for his excellent breakdown of these Eircode Routing keys on his website [here](http://www.ossiansmyth.ie/eircode-routing-keys/)."
   ]
  },
  {
   "cell_type": "code",
   "execution_count": 16,
   "metadata": {
    "collapsed": false
   },
   "outputs": [
    {
     "data": {
      "text/plain": [
       "glugger    5244\n",
       "D15         766\n",
       "D04         523\n",
       "D24         425\n",
       "D07         420\n",
       "D09         411\n",
       "D12         384\n",
       "D18         362\n",
       "D08         318\n",
       "D16         313\n",
       "D11         312\n",
       "D13         302\n",
       "D06         298\n",
       "D14         289\n",
       "D03         285\n",
       "D05         274\n",
       "A94         267\n",
       "A96         246\n",
       "K78         244\n",
       "D22         205\n",
       "D01         171\n",
       "D10          92\n",
       "D02          89\n",
       "D20          75\n",
       "D17          67\n",
       "A98          14\n",
       "A86           1\n",
       "Name: PC, dtype: int64"
      ]
     },
     "execution_count": 16,
     "metadata": {},
     "output_type": "execute_result"
    }
   ],
   "source": [
    "import re\n",
    "\n",
    "short_postcode_mapper = {}\n",
    "for x in range(1,25):\n",
    "    myKey = 'Dublin {}'.format(x)\n",
    "    myValue = 'D{:02}'.format(x)\n",
    "    short_postcode_mapper[myKey] = myValue\n",
    "short_postcode_mapper['Dublin 6W'] = 'D06'\n",
    "short_postcode_mapper['Dublin 6w'] = 'D06'\n",
    "\n",
    "new_postcode = re.compile('[A-Z][0-9]{2}')\n",
    "old_postcode = re.compile('Dublin [0-9]{1,2}')\n",
    "\n",
    "def tidy_postcode(somePostCode):\n",
    "    if re.match(old_postcode, somePostCode):\n",
    "        return short_postcode_mapper[somePostCode]\n",
    "    elif re.match(new_postcode, somePostCode):\n",
    "        return somePostCode[:3]\n",
    "    else:\n",
    "        return 'glugger'\n",
    "    \n",
    "houses['PC'] = houses['PostCode'].apply(tidy_postcode)\n",
    "houses.PC.value_counts()"
   ]
  },
  {
   "cell_type": "markdown",
   "metadata": {},
   "source": [
    "#### Using Machine Learning to Deal With the Gluggers\n",
    "This is interesting. We have 3,122 addresses of houses sold in 2016 for which we cannot track down an Eircode Key. Is there any way we can reduce that number?\n",
    "\n",
    "Well, yes there is is. The presence of the addresses for which we have both geographic coordinates and an Eircode Key can help up train a model that will will help us track down Eircode Keys for addresses for which we have only coordinates. This is how we'll do it:\n",
    "\n",
    "1. We have to divide our data frame into three types.\n",
    "    * `good_eggs`, which is where we have both post codes and coordinates,\n",
    "    * `glugger_coord`, where we have coordinates but no post code.\n",
    "    * `glugger_lost`, where we have neither coordinate nor post code.\n",
    "2. This being done, we can use the extant post codes in the `good_eggs` to train a Naive Bayes classification model.\n",
    "3. We can then use our Naive Bayes model to assign post codes to our `glugger_coord` data frame, using the co-ordinates.\n",
    "4. Concatenate the three data frames again\n",
    "5. Resolve the different post code columns"
   ]
  },
  {
   "cell_type": "code",
   "execution_count": 17,
   "metadata": {
    "collapsed": false
   },
   "outputs": [
    {
     "name": "stdout",
     "output_type": "stream",
     "text": [
      "(3446, 13)\n",
      "(1798, 13)\n",
      "(5596, 13)\n",
      "               Lat          Lon         Price\n",
      "count  5596.000000  5596.000000  5.596000e+03\n",
      "mean     53.336986    -6.280306  3.998660e+05\n",
      "std       0.044862     0.089351  3.309952e+05\n",
      "min      53.188938    -6.501789  6.500000e+03\n",
      "25%      53.295429    -6.343031  2.250000e+05\n",
      "50%      53.338356    -6.271494  3.170000e+05\n",
      "75%      53.376475    -6.218855  4.700000e+05\n",
      "max      53.423655    -6.060183  6.500000e+06\n"
     ]
    }
   ],
   "source": [
    "glugger_coord = houses[(houses['PC'] == 'glugger') & (houses['Lat'].notnull())].copy()\n",
    "glugger_lost = houses[(houses['PC'] == 'glugger') & (houses['Lat'].isnull())].copy()\n",
    "good_eggs = houses[(houses['PC'] != 'glugger') & (houses['Lat'].notnull())].copy()\n",
    "print glugger_coord.shape\n",
    "print glugger_lost.shape\n",
    "print good_eggs.shape\n",
    "\n",
    "print good_eggs.describe()"
   ]
  },
  {
   "cell_type": "code",
   "execution_count": 18,
   "metadata": {
    "collapsed": false
   },
   "outputs": [
    {
     "data": {
      "text/plain": [
       "GaussianNB()"
      ]
     },
     "execution_count": 18,
     "metadata": {},
     "output_type": "execute_result"
    }
   ],
   "source": [
    "from sklearn.naive_bayes import GaussianNB\n",
    "from sklearn.cross_validation import train_test_split\n",
    "\n",
    "coords = good_eggs[['Lat', 'Lon']]\n",
    "\n",
    "f_train, f_test, l_train, l_test = train_test_split(coords,\n",
    "                                                    good_eggs['PC'],\n",
    "                                                    test_size = 0.25,\n",
    "                                                    random_state = 33)\n",
    "\n",
    "clf = GaussianNB()\n",
    "clf.fit(f_train, l_train)"
   ]
  },
  {
   "cell_type": "code",
   "execution_count": 19,
   "metadata": {
    "collapsed": false
   },
   "outputs": [
    {
     "name": "stdout",
     "output_type": "stream",
     "text": [
      "                                             Address  County       Date  \\\n",
      "1                       Saggart, Co. Dublin, Ireland  Dublin 2016-01-04   \n",
      "2                       Saggart, Co. Dublin, Ireland  Dublin 2016-01-04   \n",
      "4  Moyola Mews, Churchtown Rd Lower, Churchtown L...  Dublin 2016-01-04   \n",
      "7   32 Latchford Square, Castaheany, Dublin, Ireland  Dublin 2016-01-04   \n",
      "9  5 Mount Argus Terrace, Harold's Cross, Dublin ...  Dublin 2016-01-04   \n",
      "\n",
      "                             Description FullMarketPrice        Lat       Lon  \\\n",
      "1          New Dwelling house /Apartment              No  53.280840 -6.443184   \n",
      "2          New Dwelling house /Apartment              No  53.280840 -6.443184   \n",
      "4  Second-Hand Dwelling house /Apartment              No  53.298311 -6.253560   \n",
      "7  Second-Hand Dwelling house /Apartment              No  53.396310 -6.431049   \n",
      "9  Second-Hand Dwelling house /Apartment              No  53.322198 -6.289609   \n",
      "\n",
      "   PostCode                                               Size  VAT gCheck  \\\n",
      "1            greater than or equal to 38 sq metres and less...  Yes   Good   \n",
      "2            greater than or equal to 38 sq metres and less...  Yes   Good   \n",
      "4                                                                No   Good   \n",
      "7                                                                No   Good   \n",
      "9  D6W H744                                                      No   Good   \n",
      "\n",
      "      Price       PC Predictions  \n",
      "1  230088.0  glugger         D24  \n",
      "2  321586.0  glugger         D24  \n",
      "4  330000.0  glugger         D14  \n",
      "7  230000.0  glugger         D15  \n",
      "9  375000.0  glugger         D12  \n"
     ]
    }
   ],
   "source": [
    "glugger_coord['Predictions'] = clf.predict(glugger_coord[['Lat', 'Lon']])\n",
    "print glugger_coord.head()"
   ]
  },
  {
   "cell_type": "code",
   "execution_count": 20,
   "metadata": {
    "collapsed": false
   },
   "outputs": [
    {
     "data": {
      "text/html": [
       "<div>\n",
       "<table border=\"1\" class=\"dataframe\">\n",
       "  <thead>\n",
       "    <tr style=\"text-align: right;\">\n",
       "      <th></th>\n",
       "      <th>Address</th>\n",
       "      <th>County</th>\n",
       "      <th>Date</th>\n",
       "      <th>Description</th>\n",
       "      <th>FullMarketPrice</th>\n",
       "      <th>Lat</th>\n",
       "      <th>Lon</th>\n",
       "      <th>PC</th>\n",
       "      <th>PostCode</th>\n",
       "      <th>Predictions</th>\n",
       "      <th>Price</th>\n",
       "      <th>Size</th>\n",
       "      <th>VAT</th>\n",
       "      <th>gCheck</th>\n",
       "    </tr>\n",
       "  </thead>\n",
       "  <tbody>\n",
       "    <tr>\n",
       "      <th>0</th>\n",
       "      <td>34 Mountpleasant Terrace, Dublin 6, D06 YC58, ...</td>\n",
       "      <td>Dublin</td>\n",
       "      <td>2016-01-01</td>\n",
       "      <td>Second-Hand Dwelling house /Apartment</td>\n",
       "      <td>No</td>\n",
       "      <td>53.328587</td>\n",
       "      <td>-6.261495</td>\n",
       "      <td>D06</td>\n",
       "      <td>D06 YC58</td>\n",
       "      <td>NaN</td>\n",
       "      <td>170000.0</td>\n",
       "      <td></td>\n",
       "      <td>No</td>\n",
       "      <td>Good</td>\n",
       "    </tr>\n",
       "    <tr>\n",
       "      <th>3</th>\n",
       "      <td>2 Brighton Rd, Brighton Hall, Kerrymount, Dubl...</td>\n",
       "      <td>Dublin</td>\n",
       "      <td>2016-01-04</td>\n",
       "      <td>Second-Hand Dwelling house /Apartment</td>\n",
       "      <td>No</td>\n",
       "      <td>53.258165</td>\n",
       "      <td>-6.174641</td>\n",
       "      <td>D18</td>\n",
       "      <td>D18 A0C6</td>\n",
       "      <td>NaN</td>\n",
       "      <td>1150000.0</td>\n",
       "      <td></td>\n",
       "      <td>No</td>\n",
       "      <td>Good</td>\n",
       "    </tr>\n",
       "    <tr>\n",
       "      <th>5</th>\n",
       "      <td>24 Woodstown Meadow, Ballycullen, Dublin 16, D...</td>\n",
       "      <td>Dublin</td>\n",
       "      <td>2016-01-04</td>\n",
       "      <td>Second-Hand Dwelling house /Apartment</td>\n",
       "      <td>No</td>\n",
       "      <td>53.273761</td>\n",
       "      <td>-6.327188</td>\n",
       "      <td>D16</td>\n",
       "      <td>D16 A7X0</td>\n",
       "      <td>NaN</td>\n",
       "      <td>430000.0</td>\n",
       "      <td></td>\n",
       "      <td>No</td>\n",
       "      <td>Good</td>\n",
       "    </tr>\n",
       "    <tr>\n",
       "      <th>6</th>\n",
       "      <td>28 Belton Park Gardens, Clontarf, Dublin 9, D0...</td>\n",
       "      <td>Dublin</td>\n",
       "      <td>2016-01-04</td>\n",
       "      <td>Second-Hand Dwelling house /Apartment</td>\n",
       "      <td>No</td>\n",
       "      <td>53.375715</td>\n",
       "      <td>-6.226541</td>\n",
       "      <td>D09</td>\n",
       "      <td>D09 N5W7</td>\n",
       "      <td>NaN</td>\n",
       "      <td>225000.0</td>\n",
       "      <td></td>\n",
       "      <td>No</td>\n",
       "      <td>Good</td>\n",
       "    </tr>\n",
       "    <tr>\n",
       "      <th>8</th>\n",
       "      <td>48A Beaufield Park, Stillorgan, Dublin, A94 XH...</td>\n",
       "      <td>Dublin</td>\n",
       "      <td>2016-01-04</td>\n",
       "      <td>Second-Hand Dwelling house /Apartment</td>\n",
       "      <td>No</td>\n",
       "      <td>53.290123</td>\n",
       "      <td>-6.203367</td>\n",
       "      <td>A94</td>\n",
       "      <td>A94 XH30</td>\n",
       "      <td>NaN</td>\n",
       "      <td>345000.0</td>\n",
       "      <td></td>\n",
       "      <td>No</td>\n",
       "      <td>Good</td>\n",
       "    </tr>\n",
       "  </tbody>\n",
       "</table>\n",
       "</div>"
      ],
      "text/plain": [
       "                                             Address  County       Date  \\\n",
       "0  34 Mountpleasant Terrace, Dublin 6, D06 YC58, ...  Dublin 2016-01-01   \n",
       "3  2 Brighton Rd, Brighton Hall, Kerrymount, Dubl...  Dublin 2016-01-04   \n",
       "5  24 Woodstown Meadow, Ballycullen, Dublin 16, D...  Dublin 2016-01-04   \n",
       "6  28 Belton Park Gardens, Clontarf, Dublin 9, D0...  Dublin 2016-01-04   \n",
       "8  48A Beaufield Park, Stillorgan, Dublin, A94 XH...  Dublin 2016-01-04   \n",
       "\n",
       "                             Description FullMarketPrice        Lat       Lon  \\\n",
       "0  Second-Hand Dwelling house /Apartment              No  53.328587 -6.261495   \n",
       "3  Second-Hand Dwelling house /Apartment              No  53.258165 -6.174641   \n",
       "5  Second-Hand Dwelling house /Apartment              No  53.273761 -6.327188   \n",
       "6  Second-Hand Dwelling house /Apartment              No  53.375715 -6.226541   \n",
       "8  Second-Hand Dwelling house /Apartment              No  53.290123 -6.203367   \n",
       "\n",
       "    PC  PostCode Predictions      Price Size VAT gCheck  \n",
       "0  D06  D06 YC58         NaN   170000.0       No   Good  \n",
       "3  D18  D18 A0C6         NaN  1150000.0       No   Good  \n",
       "5  D16  D16 A7X0         NaN   430000.0       No   Good  \n",
       "6  D09  D09 N5W7         NaN   225000.0       No   Good  \n",
       "8  A94  A94 XH30         NaN   345000.0       No   Good  "
      ]
     },
     "execution_count": 20,
     "metadata": {},
     "output_type": "execute_result"
    }
   ],
   "source": [
    "house_prices = pd.concat([good_eggs, glugger_coord, glugger_lost])\n",
    "house_prices.head()"
   ]
  },
  {
   "cell_type": "code",
   "execution_count": 21,
   "metadata": {
    "collapsed": false
   },
   "outputs": [
    {
     "data": {
      "text/html": [
       "<div>\n",
       "<table border=\"1\" class=\"dataframe\">\n",
       "  <thead>\n",
       "    <tr style=\"text-align: right;\">\n",
       "      <th></th>\n",
       "      <th>Address</th>\n",
       "      <th>County</th>\n",
       "      <th>Date</th>\n",
       "      <th>Description</th>\n",
       "      <th>FullMarketPrice</th>\n",
       "      <th>Lat</th>\n",
       "      <th>Lon</th>\n",
       "      <th>PC</th>\n",
       "      <th>PostCode</th>\n",
       "      <th>Predictions</th>\n",
       "      <th>Price</th>\n",
       "      <th>Size</th>\n",
       "      <th>VAT</th>\n",
       "      <th>gCheck</th>\n",
       "    </tr>\n",
       "  </thead>\n",
       "  <tbody>\n",
       "    <tr>\n",
       "      <th>12390</th>\n",
       "      <td>5 OAKLANDS AVE, SWORDS, DUBLIN</td>\n",
       "      <td>Dublin</td>\n",
       "      <td>2016-11-17</td>\n",
       "      <td>Second-Hand Dwelling house /Apartment</td>\n",
       "      <td>No</td>\n",
       "      <td>NaN</td>\n",
       "      <td>NaN</td>\n",
       "      <td>glugger</td>\n",
       "      <td></td>\n",
       "      <td>NaN</td>\n",
       "      <td>238000.00</td>\n",
       "      <td></td>\n",
       "      <td>No</td>\n",
       "      <td>BadLat</td>\n",
       "    </tr>\n",
       "    <tr>\n",
       "      <th>12391</th>\n",
       "      <td>11 Castleland Park Place, Balbriggan</td>\n",
       "      <td>Dublin</td>\n",
       "      <td>2016-11-18</td>\n",
       "      <td>New Dwelling house /Apartment</td>\n",
       "      <td>No</td>\n",
       "      <td>NaN</td>\n",
       "      <td>NaN</td>\n",
       "      <td>glugger</td>\n",
       "      <td></td>\n",
       "      <td>NaN</td>\n",
       "      <td>207049.00</td>\n",
       "      <td>greater than or equal to 38 sq metres and less...</td>\n",
       "      <td>Yes</td>\n",
       "      <td>BadLat</td>\n",
       "    </tr>\n",
       "    <tr>\n",
       "      <th>12394</th>\n",
       "      <td>2 ST COLMCILLES COURT, SWORDS, DUBLIN</td>\n",
       "      <td>Dublin</td>\n",
       "      <td>2016-11-18</td>\n",
       "      <td>Second-Hand Dwelling house /Apartment</td>\n",
       "      <td>No</td>\n",
       "      <td>NaN</td>\n",
       "      <td>NaN</td>\n",
       "      <td>glugger</td>\n",
       "      <td></td>\n",
       "      <td>NaN</td>\n",
       "      <td>168000.00</td>\n",
       "      <td></td>\n",
       "      <td>No</td>\n",
       "      <td>BadLat</td>\n",
       "    </tr>\n",
       "    <tr>\n",
       "      <th>12395</th>\n",
       "      <td>21 Usher Park, Knocksedan Demesne, Swords</td>\n",
       "      <td>Dublin</td>\n",
       "      <td>2016-11-18</td>\n",
       "      <td>New Dwelling house /Apartment</td>\n",
       "      <td>No</td>\n",
       "      <td>NaN</td>\n",
       "      <td>NaN</td>\n",
       "      <td>glugger</td>\n",
       "      <td></td>\n",
       "      <td>NaN</td>\n",
       "      <td>348017.62</td>\n",
       "      <td>greater than or equal to 38 sq metres and less...</td>\n",
       "      <td>Yes</td>\n",
       "      <td>BadLat</td>\n",
       "    </tr>\n",
       "    <tr>\n",
       "      <th>12396</th>\n",
       "      <td>APT 95 CASTLE HALL, SWORDS CENTRAL, MAIN STREE...</td>\n",
       "      <td>Dublin</td>\n",
       "      <td>2016-11-18</td>\n",
       "      <td>Second-Hand Dwelling house /Apartment</td>\n",
       "      <td>No</td>\n",
       "      <td>NaN</td>\n",
       "      <td>NaN</td>\n",
       "      <td>glugger</td>\n",
       "      <td></td>\n",
       "      <td>NaN</td>\n",
       "      <td>170000.00</td>\n",
       "      <td></td>\n",
       "      <td>No</td>\n",
       "      <td>NoResponse</td>\n",
       "    </tr>\n",
       "  </tbody>\n",
       "</table>\n",
       "</div>"
      ],
      "text/plain": [
       "                                                 Address  County       Date  \\\n",
       "12390                     5 OAKLANDS AVE, SWORDS, DUBLIN  Dublin 2016-11-17   \n",
       "12391               11 Castleland Park Place, Balbriggan  Dublin 2016-11-18   \n",
       "12394              2 ST COLMCILLES COURT, SWORDS, DUBLIN  Dublin 2016-11-18   \n",
       "12395          21 Usher Park, Knocksedan Demesne, Swords  Dublin 2016-11-18   \n",
       "12396  APT 95 CASTLE HALL, SWORDS CENTRAL, MAIN STREE...  Dublin 2016-11-18   \n",
       "\n",
       "                                 Description FullMarketPrice  Lat  Lon  \\\n",
       "12390  Second-Hand Dwelling house /Apartment              No  NaN  NaN   \n",
       "12391          New Dwelling house /Apartment              No  NaN  NaN   \n",
       "12394  Second-Hand Dwelling house /Apartment              No  NaN  NaN   \n",
       "12395          New Dwelling house /Apartment              No  NaN  NaN   \n",
       "12396  Second-Hand Dwelling house /Apartment              No  NaN  NaN   \n",
       "\n",
       "            PC PostCode Predictions      Price  \\\n",
       "12390  glugger                  NaN  238000.00   \n",
       "12391  glugger                  NaN  207049.00   \n",
       "12394  glugger                  NaN  168000.00   \n",
       "12395  glugger                  NaN  348017.62   \n",
       "12396  glugger                  NaN  170000.00   \n",
       "\n",
       "                                                    Size  VAT      gCheck  \n",
       "12390                                                      No      BadLat  \n",
       "12391  greater than or equal to 38 sq metres and less...  Yes      BadLat  \n",
       "12394                                                      No      BadLat  \n",
       "12395  greater than or equal to 38 sq metres and less...  Yes      BadLat  \n",
       "12396                                                      No  NoResponse  "
      ]
     },
     "execution_count": 21,
     "metadata": {},
     "output_type": "execute_result"
    }
   ],
   "source": [
    "house_prices.tail()"
   ]
  },
  {
   "cell_type": "code",
   "execution_count": 22,
   "metadata": {
    "collapsed": false
   },
   "outputs": [],
   "source": [
    "# del(house_prices['PostCode'])\n",
    "def apply_final_postcodes(aRow):\n",
    "    if aRow['PC'] == 'glugger':\n",
    "        return aRow['Predictions']\n",
    "    else:\n",
    "        return aRow['PC']\n",
    "\n",
    "# house_prices['PostCode'] = house_prices.apply(lambda x: x[7] if x[8] == np.nan else x[8])\n",
    "house_prices['PostCode'] = house_prices.apply(lambda x: apply_final_postcodes(x), axis=1)"
   ]
  },
  {
   "cell_type": "code",
   "execution_count": 23,
   "metadata": {
    "collapsed": false
   },
   "outputs": [
    {
     "data": {
      "text/plain": [
       "D15    866\n",
       "D18    519\n",
       "A96    516\n",
       "D12    511\n",
       "D24    506\n",
       "D04    498\n",
       "A94    460\n",
       "D06    460\n",
       "D16    448\n",
       "D07    447\n",
       "D14    426\n",
       "D11    425\n",
       "D09    417\n",
       "D13    408\n",
       "D03    342\n",
       "D08    342\n",
       "K78    314\n",
       "D05    293\n",
       "D22    234\n",
       "D01    208\n",
       "D02    147\n",
       "D10    117\n",
       "D20     66\n",
       "D17     54\n",
       "A98     17\n",
       "A86      1\n",
       "Name: PostCode, dtype: int64"
      ]
     },
     "execution_count": 23,
     "metadata": {},
     "output_type": "execute_result"
    }
   ],
   "source": [
    "house_prices.PostCode.value_counts()"
   ]
  },
  {
   "cell_type": "code",
   "execution_count": 24,
   "metadata": {
    "collapsed": false
   },
   "outputs": [],
   "source": [
    "# Tidy up the data frame a little\n",
    "del(house_prices['PC'])\n",
    "del(house_prices['Predictions'])\n"
   ]
  },
  {
   "cell_type": "markdown",
   "metadata": {
    "collapsed": false
   },
   "source": [
    "### Boxplot of the Major Post Code Prices\n",
    "We'll quickly chart the price distributions of those post-codes for which we have at least one hundred data."
   ]
  },
  {
   "cell_type": "code",
   "execution_count": 25,
   "metadata": {
    "collapsed": false
   },
   "outputs": [
    {
     "name": "stderr",
     "output_type": "stream",
     "text": [
      "/Users/anthonymunnelly/anaconda/lib/python2.7/site-packages/matplotlib/font_manager.py:273: UserWarning: Matplotlib is building the font cache using fc-list. This may take a moment.\n",
      "  warnings.warn('Matplotlib is building the font cache using fc-list. This may take a moment.')\n"
     ]
    },
    {
     "data": {
      "text/plain": [
       "<matplotlib.axes._subplots.AxesSubplot at 0x115cc2e50>"
      ]
     },
     "execution_count": 25,
     "metadata": {},
     "output_type": "execute_result"
    },
    {
     "data": {
      "image/png": "[encoded data removed]",
      "text/plain": [
       "<matplotlib.figure.Figure at 0x115cc23d0>"
      ]
     },
     "metadata": {},
     "output_type": "display_data"
    }
   ],
   "source": [
    "%matplotlib inline\n",
    "post_codes = house_prices['PostCode'].value_counts()\n",
    "\n",
    "target = list(post_codes[:-4].keys())\n",
    "house_prices_cut = house_prices[house_prices['PostCode'].isin(target)]\n",
    "house_prices_cut = house_prices_cut[house_prices_cut['Price'] < 1500000]\n",
    "\n",
    "house_prices_cut.boxplot('Price', 'PostCode', rot = 45)"
   ]
  },
  {
   "cell_type": "markdown",
   "metadata": {},
   "source": [
    "Very interesting.\n",
    "\n",
    "Finally, we pickle our data for further analysis in another notebook."
   ]
  },
  {
   "cell_type": "code",
   "execution_count": 26,
   "metadata": {
    "collapsed": true
   },
   "outputs": [],
   "source": [
    "with open('pickle/2016/01_notebook_house_prices_pickle', 'w') as f:\n",
    "    pickle.dump(house_prices, f)"
   ]
  },
  {
   "cell_type": "code",
   "execution_count": 27,
   "metadata": {
    "collapsed": false
   },
   "outputs": [
    {
     "data": {
      "text/plain": [
       "10840"
      ]
     },
     "execution_count": 27,
     "metadata": {},
     "output_type": "execute_result"
    }
   ],
   "source": [
    "len(house_prices)"
   ]
  },
  {
   "cell_type": "code",
   "execution_count": 29,
   "metadata": {
    "collapsed": false
   },
   "outputs": [
    {
     "data": {
      "text/plain": [
       "(1798, 13)"
      ]
     },
     "execution_count": 29,
     "metadata": {},
     "output_type": "execute_result"
    }
   ],
   "source": [
    "glugger_lost.shape"
   ]
  },
  {
   "cell_type": "code",
   "execution_count": 30,
   "metadata": {
    "collapsed": false
   },
   "outputs": [
    {
     "data": {
      "text/plain": [
       "12638"
      ]
     },
     "execution_count": 30,
     "metadata": {},
     "output_type": "execute_result"
    }
   ],
   "source": [
    "glugger_lost.shape[0] + len(house_prices)"
   ]
  },
  {
   "cell_type": "code",
   "execution_count": 31,
   "metadata": {
    "collapsed": false
   },
   "outputs": [
    {
     "data": {
      "text/plain": [
       "BadLat        1205\n",
       "NoResponse     591\n",
       "Exception        1\n",
       "BadLon           1\n",
       "Name: gCheck, dtype: int64"
      ]
     },
     "execution_count": 31,
     "metadata": {},
     "output_type": "execute_result"
    }
   ],
   "source": [
    "glugger_lost.gCheck.value_counts()"
   ]
  },
  {
   "cell_type": "code",
   "execution_count": null,
   "metadata": {
    "collapsed": true
   },
   "outputs": [],
   "source": []
  }
 ],
 "metadata": {
  "kernelspec": {
   "display_name": "Python 2",
   "language": "python",
   "name": "python2"
  },
  "language_info": {
   "codemirror_mode": {
    "name": "ipython",
    "version": 2
   },
   "file_extension": ".py",
   "mimetype": "text/x-python",
   "name": "python",
   "nbconvert_exporter": "python",
   "pygments_lexer": "ipython2",
   "version": "2.7.11"
  }
 },
 "nbformat": 4,
 "nbformat_minor": 0
}
